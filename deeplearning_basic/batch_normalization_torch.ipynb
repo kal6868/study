{
 "cells": [
  {
   "cell_type": "code",
   "execution_count": 1,
   "metadata": {},
   "outputs": [],
   "source": [
    "import torch\n",
    "import torch.nn as nn\n",
    "\n",
    "seed = 42\n",
    "torch.manual_seed(42)\n",
    "torch.cuda.manual_seed(42)"
   ]
  },
  {
   "cell_type": "markdown",
   "metadata": {},
   "source": [
    "### NLP Example"
   ]
  },
  {
   "cell_type": "markdown",
   "metadata": {},
   "source": [
    "* Sample Embedding 생성"
   ]
  },
  {
   "cell_type": "code",
   "execution_count": 2,
   "metadata": {},
   "outputs": [
    {
     "name": "stdout",
     "output_type": "stream",
     "text": [
      "tensor([[[ 1.9269,  1.4873,  0.9007, -2.1055],\n",
      "         [ 0.6784, -1.2345, -0.0431, -1.6047],\n",
      "         [-0.7521,  1.6487, -0.3925, -1.4036],\n",
      "         [-0.7279, -0.5594, -0.7688,  0.7624],\n",
      "         [ 1.6423, -0.1596, -0.4974,  0.4396]],\n",
      "\n",
      "        [[-0.7581,  1.0783,  0.8008,  1.6806],\n",
      "         [ 0.0349,  0.3211,  1.5736, -0.8455],\n",
      "         [ 1.3123,  0.6872, -1.0892, -0.3553],\n",
      "         [-1.4181,  0.8963,  0.0499,  2.2667],\n",
      "         [ 1.1790, -0.4345, -1.3864, -1.2862]]])\n"
     ]
    }
   ],
   "source": [
    "batch, sentence_len, embed_dim = 2, 4, 5\n",
    "batch_embed = torch.randn(batch, embed_dim, sentence_len)\n",
    "print(batch_embed)"
   ]
  }
 ],
 "metadata": {
  "kernelspec": {
   "display_name": "ws1",
   "language": "python",
   "name": "python3"
  },
  "language_info": {
   "codemirror_mode": {
    "name": "ipython",
    "version": 3
   },
   "file_extension": ".py",
   "mimetype": "text/x-python",
   "name": "python",
   "nbconvert_exporter": "python",
   "pygments_lexer": "ipython3",
   "version": "3.12.4"
  }
 },
 "nbformat": 4,
 "nbformat_minor": 2
}
