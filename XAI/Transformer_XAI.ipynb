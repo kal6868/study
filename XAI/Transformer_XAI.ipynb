{
 "cells": [
  {
   "cell_type": "code",
   "execution_count": 1,
   "id": "83686a54",
   "metadata": {
    "_cell_guid": "b1076dfc-b9ad-4769-8c92-a6c4dae69d19",
    "_uuid": "8f2839f25d086af736a60e9eeb907d3b93b6e0e5",
    "execution": {
     "iopub.execute_input": "2023-07-23T10:07:52.784328Z",
     "iopub.status.busy": "2023-07-23T10:07:52.783121Z",
     "iopub.status.idle": "2023-07-23T10:08:09.061953Z",
     "shell.execute_reply": "2023-07-23T10:08:09.060069Z"
    },
    "papermill": {
     "duration": 16.290803,
     "end_time": "2023-07-23T10:08:09.064819",
     "exception": false,
     "start_time": "2023-07-23T10:07:52.774016",
     "status": "completed"
    },
    "tags": []
   },
   "outputs": [
    {
     "name": "stderr",
     "output_type": "stream",
     "text": [
      "/opt/conda/lib/python3.10/site-packages/scipy/__init__.py:146: UserWarning: A NumPy version >=1.16.5 and <1.23.0 is required for this version of SciPy (detected version 1.23.5\n",
      "  warnings.warn(f\"A NumPy version >={np_minversion} and <{np_maxversion}\"\n",
      "/opt/conda/lib/python3.10/site-packages/tensorflow_io/python/ops/__init__.py:98: UserWarning: unable to load libtensorflow_io_plugins.so: unable to open file: libtensorflow_io_plugins.so, from paths: ['/opt/conda/lib/python3.10/site-packages/tensorflow_io/python/ops/libtensorflow_io_plugins.so']\n",
      "caused by: ['/opt/conda/lib/python3.10/site-packages/tensorflow_io/python/ops/libtensorflow_io_plugins.so: undefined symbol: _ZN3tsl6StatusC1EN10tensorflow5error4CodeESt17basic_string_viewIcSt11char_traitsIcEENS_14SourceLocationE']\n",
      "  warnings.warn(f\"unable to load libtensorflow_io_plugins.so: {e}\")\n",
      "/opt/conda/lib/python3.10/site-packages/tensorflow_io/python/ops/__init__.py:104: UserWarning: file system plugins are not loaded: unable to open file: libtensorflow_io.so, from paths: ['/opt/conda/lib/python3.10/site-packages/tensorflow_io/python/ops/libtensorflow_io.so']\n",
      "caused by: ['/opt/conda/lib/python3.10/site-packages/tensorflow_io/python/ops/libtensorflow_io.so: undefined symbol: _ZTVN10tensorflow13GcsFileSystemE']\n",
      "  warnings.warn(f\"file system plugins are not loaded: {e}\")\n"
     ]
    }
   ],
   "source": [
    "import os\n",
    "import time\n",
    "import shutil\n",
    "import re\n",
    "import string\n",
    "import pickle as pkl\n",
    "import numpy as np\n",
    "\n",
    "import torch\n",
    "import torch.nn as nn\n",
    "from torch.utils.data import DataLoader, TensorDataset\n",
    "\n",
    "import tensorflow as tf\n",
    "from tensorflow.keras.preprocessing.sequence import pad_sequences\n",
    "from tensorflow.keras.preprocessing.text import Tokenizer\n",
    "\n",
    "from sklearn.model_selection import train_test_split\n",
    "from sklearn.metrics import f1_score\n",
    "\n",
    "from tensorflow.keras import layers\n",
    "\n",
    "import matplotlib.pyplot as plt\n",
    "import seaborn as sns\n",
    "\n",
    "import math\n",
    "from collections import Counter\n",
    "\n",
    "from nltk.corpus import stopwords\n",
    "from nltk.tokenize import word_tokenize "
   ]
  },
  {
   "cell_type": "code",
   "execution_count": 2,
   "id": "02aa5fd6",
   "metadata": {
    "execution": {
     "iopub.execute_input": "2023-07-23T10:08:09.082240Z",
     "iopub.status.busy": "2023-07-23T10:08:09.081156Z",
     "iopub.status.idle": "2023-07-23T10:08:09.088103Z",
     "shell.execute_reply": "2023-07-23T10:08:09.087171Z"
    },
    "papermill": {
     "duration": 0.017557,
     "end_time": "2023-07-23T10:08:09.090189",
     "exception": false,
     "start_time": "2023-07-23T10:08:09.072632",
     "status": "completed"
    },
    "tags": []
   },
   "outputs": [],
   "source": [
    "class Timer():\n",
    "    def __init__(self, message):\n",
    "        self.message = message\n",
    "        self.st_time = time.time()\n",
    "    \n",
    "    def end(self):\n",
    "        self.elapsed = time.time()-self.st_time\n",
    "        print(f'{self.message} process took {self.elapsed//60}min {round(self.elapsed//60, 2)}sec')"
   ]
  },
  {
   "cell_type": "code",
   "execution_count": 3,
   "id": "201e7e17",
   "metadata": {
    "execution": {
     "iopub.execute_input": "2023-07-23T10:08:09.107607Z",
     "iopub.status.busy": "2023-07-23T10:08:09.106641Z",
     "iopub.status.idle": "2023-07-23T10:08:09.113506Z",
     "shell.execute_reply": "2023-07-23T10:08:09.111984Z"
    },
    "papermill": {
     "duration": 0.018469,
     "end_time": "2023-07-23T10:08:09.115825",
     "exception": false,
     "start_time": "2023-07-23T10:08:09.097356",
     "status": "completed"
    },
    "tags": []
   },
   "outputs": [],
   "source": [
    "def custom_standardization(input_data):\n",
    "  lowercase = tf.strings.lower(input_data)\n",
    "  stripped_html = tf.strings.regex_replace(lowercase, '<br />', ' ')\n",
    "  return tf.strings.regex_replace(stripped_html, '[%s]' % re.escape(string.punctuation), '')"
   ]
  },
  {
   "cell_type": "code",
   "execution_count": 4,
   "id": "81ad49af",
   "metadata": {
    "execution": {
     "iopub.execute_input": "2023-07-23T10:08:09.131762Z",
     "iopub.status.busy": "2023-07-23T10:08:09.131330Z",
     "iopub.status.idle": "2023-07-23T10:08:09.138199Z",
     "shell.execute_reply": "2023-07-23T10:08:09.136975Z"
    },
    "papermill": {
     "duration": 0.01854,
     "end_time": "2023-07-23T10:08:09.141129",
     "exception": false,
     "start_time": "2023-07-23T10:08:09.122589",
     "status": "completed"
    },
    "tags": []
   },
   "outputs": [],
   "source": [
    "def get_text_label(raw_ds):\n",
    "    list_text, list_label = [], []\n",
    "    for data, _label in raw_ds:\n",
    "        text = custom_standardization(data)\n",
    "        revised_text = [t.numpy().decode('utf-8').replace('  ', ' ').strip() for t in text]\n",
    "        label = _label.numpy().tolist()\n",
    "        list_text.extend(revised_text)\n",
    "        list_label.extend(label)\n",
    "    return list_text, list_label"
   ]
  },
  {
   "cell_type": "code",
   "execution_count": 5,
   "id": "734ddcd2",
   "metadata": {
    "execution": {
     "iopub.execute_input": "2023-07-23T10:08:09.157938Z",
     "iopub.status.busy": "2023-07-23T10:08:09.157513Z",
     "iopub.status.idle": "2023-07-23T10:08:09.164740Z",
     "shell.execute_reply": "2023-07-23T10:08:09.163125Z"
    },
    "papermill": {
     "duration": 0.018844,
     "end_time": "2023-07-23T10:08:09.167481",
     "exception": false,
     "start_time": "2023-07-23T10:08:09.148637",
     "status": "completed"
    },
    "tags": []
   },
   "outputs": [],
   "source": [
    "def sentence_tokenize(tokenizer,texts):\n",
    "    result = []\n",
    "    for text in texts:\n",
    "        sentence = []\n",
    "        word_tokens = tokenizer(text)\n",
    "        result.append(word_tokens)\n",
    "    return result"
   ]
  },
  {
   "cell_type": "code",
   "execution_count": 6,
   "id": "aa4378a1",
   "metadata": {
    "execution": {
     "iopub.execute_input": "2023-07-23T10:08:09.185969Z",
     "iopub.status.busy": "2023-07-23T10:08:09.185212Z",
     "iopub.status.idle": "2023-07-23T10:08:09.191401Z",
     "shell.execute_reply": "2023-07-23T10:08:09.190246Z"
    },
    "papermill": {
     "duration": 0.019407,
     "end_time": "2023-07-23T10:08:09.194532",
     "exception": false,
     "start_time": "2023-07-23T10:08:09.175125",
     "status": "completed"
    },
    "tags": []
   },
   "outputs": [],
   "source": [
    "def remove_stopwords(texts, stopwords):\n",
    "    result = []\n",
    "    for text in texts:\n",
    "        sentence = []\n",
    "        for word in text:\n",
    "            if word not in stopwords:\n",
    "                sentence.append(word)\n",
    "        result.append(sentence)\n",
    "    return result"
   ]
  },
  {
   "cell_type": "code",
   "execution_count": 7,
   "id": "62e9702e",
   "metadata": {
    "execution": {
     "iopub.execute_input": "2023-07-23T10:08:09.211316Z",
     "iopub.status.busy": "2023-07-23T10:08:09.210827Z",
     "iopub.status.idle": "2023-07-23T10:08:45.218176Z",
     "shell.execute_reply": "2023-07-23T10:08:45.217349Z"
    },
    "papermill": {
     "duration": 36.018872,
     "end_time": "2023-07-23T10:08:45.220508",
     "exception": false,
     "start_time": "2023-07-23T10:08:09.201636",
     "status": "completed"
    },
    "tags": []
   },
   "outputs": [
    {
     "name": "stdout",
     "output_type": "stream",
     "text": [
      "Downloading data from https://ai.stanford.edu/~amaas/data/sentiment/aclImdb_v1.tar.gz\n",
      "84125825/84125825 [==============================] - 5s 0us/step\n"
     ]
    }
   ],
   "source": [
    "# Get IMDB Dataset\n",
    "url = \"https://ai.stanford.edu/~amaas/data/sentiment/aclImdb_v1.tar.gz\"\n",
    "dataset = tf.keras.utils.get_file('aclImdb_v1', url, untar=True, cache_dir='', cache_subdir='')\n",
    "dataset_dir = os.path.join(os.path.dirname(dataset), 'aclImdb') # '/tmp/.keras/aclImdb'"
   ]
  },
  {
   "cell_type": "code",
   "execution_count": 8,
   "id": "02ea6ebd",
   "metadata": {
    "execution": {
     "iopub.execute_input": "2023-07-23T10:08:45.246416Z",
     "iopub.status.busy": "2023-07-23T10:08:45.245335Z",
     "iopub.status.idle": "2023-07-23T10:08:45.252352Z",
     "shell.execute_reply": "2023-07-23T10:08:45.251239Z"
    },
    "papermill": {
     "duration": 0.022471,
     "end_time": "2023-07-23T10:08:45.254733",
     "exception": false,
     "start_time": "2023-07-23T10:08:45.232262",
     "status": "completed"
    },
    "tags": []
   },
   "outputs": [
    {
     "name": "stdout",
     "output_type": "stream",
     "text": [
      "['imdb.vocab', 'README', 'test', 'train', 'imdbEr.txt']\n",
      "Train Directory: ['neg', 'unsupBow.feat', 'unsup', 'labeledBow.feat', 'urls_unsup.txt', 'urls_neg.txt', 'urls_pos.txt', 'pos']\n",
      "Test Directory: ['neg', 'labeledBow.feat', 'urls_neg.txt', 'urls_pos.txt', 'pos']\n"
     ]
    }
   ],
   "source": [
    "# Check files in folder\n",
    "print(os.listdir(dataset_dir))\n",
    "train_dir = os.path.join(dataset_dir, 'train')\n",
    "print(f'Train Directory: {os.listdir(train_dir)}')\n",
    "test_dir = os.path.join(dataset_dir, 'test')\n",
    "print(f'Test Directory: {os.listdir(test_dir)}')"
   ]
  },
  {
   "cell_type": "code",
   "execution_count": 9,
   "id": "bf4b8fef",
   "metadata": {
    "execution": {
     "iopub.execute_input": "2023-07-23T10:08:45.280064Z",
     "iopub.status.busy": "2023-07-23T10:08:45.279651Z",
     "iopub.status.idle": "2023-07-23T10:08:46.605824Z",
     "shell.execute_reply": "2023-07-23T10:08:46.604703Z"
    },
    "papermill": {
     "duration": 1.341641,
     "end_time": "2023-07-23T10:08:46.608517",
     "exception": false,
     "start_time": "2023-07-23T10:08:45.266876",
     "status": "completed"
    },
    "tags": []
   },
   "outputs": [],
   "source": [
    "# Remove Necessary\n",
    "remove_dir = os.path.join(train_dir, 'unsup')\n",
    "shutil.rmtree(remove_dir)"
   ]
  },
  {
   "cell_type": "code",
   "execution_count": 10,
   "id": "b12900d0",
   "metadata": {
    "execution": {
     "iopub.execute_input": "2023-07-23T10:08:46.635401Z",
     "iopub.status.busy": "2023-07-23T10:08:46.634617Z",
     "iopub.status.idle": "2023-07-23T10:08:49.096221Z",
     "shell.execute_reply": "2023-07-23T10:08:49.095292Z"
    },
    "papermill": {
     "duration": 2.478071,
     "end_time": "2023-07-23T10:08:49.098595",
     "exception": false,
     "start_time": "2023-07-23T10:08:46.620524",
     "status": "completed"
    },
    "tags": []
   },
   "outputs": [
    {
     "name": "stdout",
     "output_type": "stream",
     "text": [
      "Found 25000 files belonging to 2 classes.\n",
      "Found 25000 files belonging to 2 classes.\n"
     ]
    }
   ],
   "source": [
    "# Extract Dataset from Data files\n",
    "batch_size = 32\n",
    "seed = 42\n",
    "\n",
    "raw_train_ds = tf.keras.utils.text_dataset_from_directory(\n",
    "    '/tmp/.keras/aclImdb/train',\n",
    "    batch_size = batch_size,\n",
    "    shuffle=False\n",
    ")\n",
    "# raw_valid_ds = tf.keras.utils.text_dataset_from_directory(\n",
    "# '/tmp/.keras/aclImdb/train',\n",
    "# batch_size = batch_size,\n",
    "# validation_split = 0.2,\n",
    "# subset='validation',\n",
    "# seed=seed)\n",
    "\n",
    "raw_test_ds = tf.keras.utils.text_dataset_from_directory(\n",
    "    '/tmp/.keras/aclImdb/test',\n",
    "    shuffle=False,\n",
    "    batch_size = batch_size)"
   ]
  },
  {
   "cell_type": "code",
   "execution_count": 11,
   "id": "8797d338",
   "metadata": {
    "execution": {
     "iopub.execute_input": "2023-07-23T10:08:49.125195Z",
     "iopub.status.busy": "2023-07-23T10:08:49.124528Z",
     "iopub.status.idle": "2023-07-23T10:08:49.224952Z",
     "shell.execute_reply": "2023-07-23T10:08:49.223940Z"
    },
    "papermill": {
     "duration": 0.116429,
     "end_time": "2023-07-23T10:08:49.227492",
     "exception": false,
     "start_time": "2023-07-23T10:08:49.111063",
     "status": "completed"
    },
    "tags": []
   },
   "outputs": [
    {
     "name": "stdout",
     "output_type": "stream",
     "text": [
      "tf.Tensor(b\"Story of a man who has unnatural feelings for a pig. Starts out with a opening scene that is a terrific example of absurd comedy. A formal orchestra audience is turned into an insane, violent mob by the crazy chantings of it's singers. Unfortunately it stays absurd the WHOLE time with no general narrative eventually making it just too off putting. Even those from the era should be turned off. The cryptic dialogue would make Shakespeare seem easy to a third grader. On a technical level it's better than you might think with some good cinematography by future great Vilmos Zsigmond. Future stars Sally Kirkland and Frederic Forrest can be seen briefly.\", shape=(), dtype=string)\n",
      "\n",
      "tf.Tensor(0, shape=(), dtype=int32)\n"
     ]
    }
   ],
   "source": [
    "# Check Dataset \n",
    "print(next(iter(raw_train_ds))[0][0]) # data\n",
    "print()\n",
    "print(next(iter(raw_train_ds))[1][0]) # label"
   ]
  },
  {
   "cell_type": "code",
   "execution_count": 12,
   "id": "7d9aa84c",
   "metadata": {
    "execution": {
     "iopub.execute_input": "2023-07-23T10:08:49.265923Z",
     "iopub.status.busy": "2023-07-23T10:08:49.265415Z",
     "iopub.status.idle": "2023-07-23T10:09:08.492312Z",
     "shell.execute_reply": "2023-07-23T10:09:08.491212Z"
    },
    "papermill": {
     "duration": 19.249345,
     "end_time": "2023-07-23T10:09:08.495329",
     "exception": false,
     "start_time": "2023-07-23T10:08:49.245984",
     "status": "completed"
    },
    "tags": []
   },
   "outputs": [],
   "source": [
    "# Train Data split into Train & Valid\n",
    "raw_text, raw_label = get_text_label(raw_train_ds)\n",
    "train_text, val_text, train_label, val_label = train_test_split(raw_text, raw_label, test_size=0.2, random_state=42)\n",
    "test_text, test_label = get_text_label(raw_test_ds)"
   ]
  },
  {
   "cell_type": "code",
   "execution_count": 13,
   "id": "3cc3913c",
   "metadata": {
    "execution": {
     "iopub.execute_input": "2023-07-23T10:09:08.521334Z",
     "iopub.status.busy": "2023-07-23T10:09:08.520932Z",
     "iopub.status.idle": "2023-07-23T10:09:55.639073Z",
     "shell.execute_reply": "2023-07-23T10:09:55.636330Z"
    },
    "papermill": {
     "duration": 47.146649,
     "end_time": "2023-07-23T10:09:55.654148",
     "exception": false,
     "start_time": "2023-07-23T10:09:08.507499",
     "status": "completed"
    },
    "tags": []
   },
   "outputs": [
    {
     "name": "stdout",
     "output_type": "stream",
     "text": [
      "Tokenize process took 0.0min 0.0sec\n"
     ]
    }
   ],
   "source": [
    "word_tokenizer = word_tokenize\n",
    "timer = Timer(\"Tokenize\")\n",
    "train_raw_token = sentence_tokenize(word_tokenizer, train_text)\n",
    "val_raw_token = sentence_tokenize(word_tokenizer, val_text)\n",
    "test_raw_token = sentence_tokenize(word_tokenizer, test_text)\n",
    "timer.end()"
   ]
  },
  {
   "cell_type": "code",
   "execution_count": 14,
   "id": "1c710389",
   "metadata": {
    "execution": {
     "iopub.execute_input": "2023-07-23T10:09:55.681146Z",
     "iopub.status.busy": "2023-07-23T10:09:55.680664Z",
     "iopub.status.idle": "2023-07-23T10:09:56.894558Z",
     "shell.execute_reply": "2023-07-23T10:09:56.893379Z"
    },
    "papermill": {
     "duration": 1.230959,
     "end_time": "2023-07-23T10:09:56.897034",
     "exception": false,
     "start_time": "2023-07-23T10:09:55.666075",
     "status": "completed"
    },
    "tags": []
   },
   "outputs": [
    {
     "name": "stdout",
     "output_type": "stream",
     "text": [
      "mean: 1261.72355\n",
      "(700, 2474) (600, 1899) (800, 1882) (900, 1417) (1000, 1242) (1100, 976) (1200, 818) (500, 751) (1300, 723) (400, 704)\n"
     ]
    },
    {
     "data": {
      "image/png": "[encoded data removed]",
      "text/plain": [
       "<Figure size 1200x800 with 1 Axes>"
      ]
     },
     "metadata": {},
     "output_type": "display_data"
    }
   ],
   "source": [
    "length_count = np.array([len(train_t) for train_t in train_text])\n",
    "upper_length_count = np.array([round(len(train_t), -2) for train_t in train_text])\n",
    "plt.figure(figsize = (12, 8))\n",
    "sns.histplot(length_count)\n",
    "plt.xlim(0, 6000)\n",
    "plt.xticks(np.arange(0, 6000, 100), rotation=90)\n",
    "plt.title(\"Word length before remove stopwords\")\n",
    "print(f'mean: {length_count.mean()}')\n",
    "\n",
    "# 700~800 사이가 제일 많다.\n",
    "print(*sorted(Counter(upper_length_count).items(), key=lambda x: -x[1])[:10])"
   ]
  },
  {
   "cell_type": "code",
   "execution_count": 15,
   "id": "bbb8d9f9",
   "metadata": {
    "execution": {
     "iopub.execute_input": "2023-07-23T10:09:56.924650Z",
     "iopub.status.busy": "2023-07-23T10:09:56.924212Z",
     "iopub.status.idle": "2023-07-23T10:10:19.770055Z",
     "shell.execute_reply": "2023-07-23T10:10:19.768781Z"
    },
    "papermill": {
     "duration": 22.862618,
     "end_time": "2023-07-23T10:10:19.772649",
     "exception": false,
     "start_time": "2023-07-23T10:09:56.910031",
     "status": "completed"
    },
    "tags": []
   },
   "outputs": [
    {
     "name": "stdout",
     "output_type": "stream",
     "text": [
      "Remove Stopwords process took 0.0min 0.0sec\n"
     ]
    }
   ],
   "source": [
    "stopwords_list = stopwords.words('english')\n",
    "timer = Timer(\"Remove Stopwords\")\n",
    "train_without_stops = remove_stopwords(train_raw_token, stopwords_list)\n",
    "val_without_stops = remove_stopwords(val_raw_token, stopwords_list)\n",
    "test_without_stops = remove_stopwords(test_raw_token, stopwords_list)\n",
    "timer.end()"
   ]
  },
  {
   "cell_type": "code",
   "execution_count": 16,
   "id": "6bd81309",
   "metadata": {
    "execution": {
     "iopub.execute_input": "2023-07-23T10:10:19.803829Z",
     "iopub.status.busy": "2023-07-23T10:10:19.803371Z",
     "iopub.status.idle": "2023-07-23T10:10:20.815552Z",
     "shell.execute_reply": "2023-07-23T10:10:20.814410Z"
    },
    "papermill": {
     "duration": 1.029368,
     "end_time": "2023-07-23T10:10:20.817750",
     "exception": false,
     "start_time": "2023-07-23T10:10:19.788382",
     "status": "completed"
    },
    "tags": []
   },
   "outputs": [
    {
     "name": "stdout",
     "output_type": "stream",
     "text": [
      "mean: 121.7309\n",
      "mean: 90.0\n",
      "(100, 12803) (200, 3100) (0, 2271) (300, 1081) (400, 491) (500, 213) (600, 30) (700, 5) (900, 3) (800, 2)\n"
     ]
    },
    {
     "data": {
      "image/png": "[encoded data removed]",
      "text/plain": [
       "<Figure size 1200x800 with 1 Axes>"
      ]
     },
     "metadata": {},
     "output_type": "display_data"
    }
   ],
   "source": [
    "ws_length_count = np.array([len(train_ws) for train_ws in train_without_stops])\n",
    "ws_upper_length_count = np.array([round(len(train_ws), -2) for train_ws in train_without_stops])\n",
    "plt.figure(figsize = (12, 8))\n",
    "sns.histplot(ws_length_count)\n",
    "plt.xlim(0, 3700)\n",
    "plt.xticks(np.arange(0, 3700, 100), rotation=90)\n",
    "plt.title(\"Word length after remove stopwords\")\n",
    "print(f'mean: {ws_length_count.mean()}')\n",
    "print(f'mean: {np.median(ws_length_count)}')\n",
    "\n",
    "# 500 이하에 대부분이 포진\n",
    "print(*sorted(Counter(ws_upper_length_count).items(), key=lambda x: -x[1])[:10])"
   ]
  },
  {
   "cell_type": "code",
   "execution_count": 17,
   "id": "db3a6458",
   "metadata": {
    "execution": {
     "iopub.execute_input": "2023-07-23T10:10:20.848742Z",
     "iopub.status.busy": "2023-07-23T10:10:20.848294Z",
     "iopub.status.idle": "2023-07-23T10:10:20.854311Z",
     "shell.execute_reply": "2023-07-23T10:10:20.853107Z"
    },
    "papermill": {
     "duration": 0.024671,
     "end_time": "2023-07-23T10:10:20.856775",
     "exception": false,
     "start_time": "2023-07-23T10:10:20.832104",
     "status": "completed"
    },
    "tags": []
   },
   "outputs": [],
   "source": [
    "def get_length_percentage(dataset, limit):\n",
    "    count_under_limit = 0\n",
    "    for x in dataset:\n",
    "        if len(x) <= limit:\n",
    "            count_under_limit += 1\n",
    "    answer = (count_under_limit/len(dataset))*100\n",
    "    print(f'{answer}% contains under {limit} words')"
   ]
  },
  {
   "cell_type": "code",
   "execution_count": 18,
   "id": "9f9bed74",
   "metadata": {
    "execution": {
     "iopub.execute_input": "2023-07-23T10:10:20.887122Z",
     "iopub.status.busy": "2023-07-23T10:10:20.886705Z",
     "iopub.status.idle": "2023-07-23T10:10:20.895363Z",
     "shell.execute_reply": "2023-07-23T10:10:20.894144Z"
    },
    "papermill": {
     "duration": 0.027116,
     "end_time": "2023-07-23T10:10:20.898001",
     "exception": false,
     "start_time": "2023-07-23T10:10:20.870885",
     "status": "completed"
    },
    "tags": []
   },
   "outputs": [
    {
     "name": "stdout",
     "output_type": "stream",
     "text": [
      "99.385% contains under 500 words\n"
     ]
    }
   ],
   "source": [
    "get_length_percentage(train_without_stops, 500)"
   ]
  },
  {
   "cell_type": "code",
   "execution_count": 19,
   "id": "b1b694c0",
   "metadata": {
    "execution": {
     "iopub.execute_input": "2023-07-23T10:10:20.927696Z",
     "iopub.status.busy": "2023-07-23T10:10:20.927270Z",
     "iopub.status.idle": "2023-07-23T10:10:21.558995Z",
     "shell.execute_reply": "2023-07-23T10:10:21.557776Z"
    },
    "papermill": {
     "duration": 0.649023,
     "end_time": "2023-07-23T10:10:21.561533",
     "exception": false,
     "start_time": "2023-07-23T10:10:20.912510",
     "status": "completed"
    },
    "tags": []
   },
   "outputs": [
    {
     "name": "stdout",
     "output_type": "stream",
     "text": [
      "words appear more then 20 times in total sentence: 11085\n"
     ]
    }
   ],
   "source": [
    "sentence_words = []\n",
    "for s in train_without_stops:\n",
    "#     split_words = s.split()\n",
    "    sentence_words.extend(s)\n",
    "count_words = Counter(sentence_words)\n",
    "\n",
    "limit = 20\n",
    "used_word = len([w for w, c in count_words.items() if c > limit])\n",
    "print(f'words appear more then {limit} times in total sentence: {used_word}')"
   ]
  },
  {
   "cell_type": "code",
   "execution_count": 20,
   "id": "3830080a",
   "metadata": {
    "execution": {
     "iopub.execute_input": "2023-07-23T10:10:21.590383Z",
     "iopub.status.busy": "2023-07-23T10:10:21.589949Z",
     "iopub.status.idle": "2023-07-23T10:10:21.595353Z",
     "shell.execute_reply": "2023-07-23T10:10:21.594281Z"
    },
    "papermill": {
     "duration": 0.022811,
     "end_time": "2023-07-23T10:10:21.598015",
     "exception": false,
     "start_time": "2023-07-23T10:10:21.575204",
     "status": "completed"
    },
    "tags": []
   },
   "outputs": [],
   "source": [
    "# maxlen: 4000, test f1_score: 0.8372\n",
    "def padding_token(text_without_stops):\n",
    "    return pad_sequences(text_without_stops, dtype=object, maxlen=500, padding='post', value='<pad>')"
   ]
  },
  {
   "cell_type": "code",
   "execution_count": 21,
   "id": "40e3522a",
   "metadata": {
    "execution": {
     "iopub.execute_input": "2023-07-23T10:10:21.627712Z",
     "iopub.status.busy": "2023-07-23T10:10:21.627265Z",
     "iopub.status.idle": "2023-07-23T10:10:24.676805Z",
     "shell.execute_reply": "2023-07-23T10:10:24.675508Z"
    },
    "papermill": {
     "duration": 3.067821,
     "end_time": "2023-07-23T10:10:24.679222",
     "exception": false,
     "start_time": "2023-07-23T10:10:21.611401",
     "status": "completed"
    },
    "tags": []
   },
   "outputs": [
    {
     "name": "stdout",
     "output_type": "stream",
     "text": [
      "padding process took 0.0min 0.0sec\n",
      "Shape: Train_(20000, 500), Val_(5000, 500), Test_(25000, 500)\n"
     ]
    }
   ],
   "source": [
    "timer = Timer(\"padding\")\n",
    "train_token = padding_token(train_without_stops)\n",
    "val_token = padding_token(val_without_stops)\n",
    "test_token = padding_token(test_without_stops)\n",
    "timer.end()\n",
    "print(f'Shape: Train_{train_token.shape}, Val_{val_token.shape}, Test_{test_token.shape}')"
   ]
  },
  {
   "cell_type": "code",
   "execution_count": 22,
   "id": "2db13638",
   "metadata": {
    "execution": {
     "iopub.execute_input": "2023-07-23T10:10:24.709243Z",
     "iopub.status.busy": "2023-07-23T10:10:24.708813Z",
     "iopub.status.idle": "2023-07-23T10:10:31.493484Z",
     "shell.execute_reply": "2023-07-23T10:10:31.492228Z"
    },
    "papermill": {
     "duration": 6.803113,
     "end_time": "2023-07-23T10:10:31.496000",
     "exception": false,
     "start_time": "2023-07-23T10:10:24.692887",
     "status": "completed"
    },
    "tags": []
   },
   "outputs": [
    {
     "name": "stdout",
     "output_type": "stream",
     "text": [
      "('<pad>', 2) ('movie', 3) ('film', 4) ('one', 5) ('like', 6) ('good', 7) ('even', 8) ('time', 9) ('would', 10) ('really', 11)\n",
      "Total Words: 98715 but 11085 is used\n"
     ]
    }
   ],
   "source": [
    "tokenizer = Tokenizer(num_words=10000, oov_token = 'unknown') \n",
    "# tokenizer = Tokenizer()\n",
    "tokenizer.fit_on_texts(train_token.tolist())\n",
    "print(*sorted(tokenizer.word_index.items(), key=lambda x: x[1])[:10])\n",
    "print(f'Total Words: {len(tokenizer.word_index.items())} but {used_word} is used')"
   ]
  },
  {
   "cell_type": "code",
   "execution_count": 23,
   "id": "041b804a",
   "metadata": {
    "execution": {
     "iopub.execute_input": "2023-07-23T10:10:31.526313Z",
     "iopub.status.busy": "2023-07-23T10:10:31.525904Z",
     "iopub.status.idle": "2023-07-23T10:10:44.561338Z",
     "shell.execute_reply": "2023-07-23T10:10:44.560137Z"
    },
    "papermill": {
     "duration": 13.05404,
     "end_time": "2023-07-23T10:10:44.564234",
     "exception": false,
     "start_time": "2023-07-23T10:10:31.510194",
     "status": "completed"
    },
    "tags": []
   },
   "outputs": [],
   "source": [
    "train_sequence = np.array(tokenizer.texts_to_sequences(train_token.tolist()), dtype=np.int32)\n",
    "val_sequence = np.array(tokenizer.texts_to_sequences(val_token.tolist()), dtype=np.int32)\n",
    "test_sequence = np.array(tokenizer.texts_to_sequences(test_token.tolist()), dtype=np.int32)"
   ]
  },
  {
   "cell_type": "code",
   "execution_count": 24,
   "id": "04b71fb4",
   "metadata": {
    "execution": {
     "iopub.execute_input": "2023-07-23T10:10:44.593966Z",
     "iopub.status.busy": "2023-07-23T10:10:44.593268Z",
     "iopub.status.idle": "2023-07-23T10:10:44.601476Z",
     "shell.execute_reply": "2023-07-23T10:10:44.600448Z"
    },
    "papermill": {
     "duration": 0.025391,
     "end_time": "2023-07-23T10:10:44.603783",
     "exception": false,
     "start_time": "2023-07-23T10:10:44.578392",
     "status": "completed"
    },
    "tags": []
   },
   "outputs": [],
   "source": [
    "train_label = np.array(train_label, dtype=np.int32)\n",
    "val_label = np.array(val_label, dtype=np.int32)\n",
    "test_label = np.array(test_label, dtype=np.int32)"
   ]
  },
  {
   "cell_type": "code",
   "execution_count": 25,
   "id": "7f5f5586",
   "metadata": {
    "execution": {
     "iopub.execute_input": "2023-07-23T10:10:44.632598Z",
     "iopub.status.busy": "2023-07-23T10:10:44.632216Z",
     "iopub.status.idle": "2023-07-23T10:10:44.638334Z",
     "shell.execute_reply": "2023-07-23T10:10:44.636627Z"
    },
    "papermill": {
     "duration": 0.023124,
     "end_time": "2023-07-23T10:10:44.640630",
     "exception": false,
     "start_time": "2023-07-23T10:10:44.617506",
     "status": "completed"
    },
    "tags": []
   },
   "outputs": [
    {
     "name": "stdout",
     "output_type": "stream",
     "text": [
      "(20000, 500)\n",
      "(20000,)\n"
     ]
    }
   ],
   "source": [
    "print(train_sequence.shape)\n",
    "print(train_label.shape)"
   ]
  },
  {
   "cell_type": "code",
   "execution_count": 26,
   "id": "525cd675",
   "metadata": {
    "execution": {
     "iopub.execute_input": "2023-07-23T10:10:44.669545Z",
     "iopub.status.busy": "2023-07-23T10:10:44.669173Z",
     "iopub.status.idle": "2023-07-23T10:10:44.864960Z",
     "shell.execute_reply": "2023-07-23T10:10:44.863730Z"
    },
    "papermill": {
     "duration": 0.213289,
     "end_time": "2023-07-23T10:10:44.867508",
     "exception": false,
     "start_time": "2023-07-23T10:10:44.654219",
     "status": "completed"
    },
    "tags": []
   },
   "outputs": [],
   "source": [
    "batch_size = 64\n",
    "shuffle = False\n",
    "\n",
    "# train_dataset = TensorDataset(torch.from_numpy(train_token), torch.from_numpy(np.array(train_label)))\n",
    "# train_dataloader = DataLoader(train_dataset, batch_size=batch_size, shuffle=shuffle)\n",
    "\n",
    "# val_dataset = TensorDataset(torch.from_numpy(val_token), torch.from_numpy(np.array(val_label)))\n",
    "# val_dataloader = DataLoader(val_dataset, batch_size=batch_size, shuffle=shuffle)\n",
    "\n",
    "# test_dataset = TensorDataset(torch.from_numpy(test_token), torch.from_numpy(np.array(test_label)))\n",
    "# test_dataloader = DataLoader(test_dataset, batch_size=batch_size, shuffle=shuffle)\n",
    "\n",
    "dataloader_path = '/kaggle/working/dataloader'\n",
    "if not os.path.exists(dataloader_path):\n",
    "    os.makedirs(dataloader_path)\n",
    "    \n",
    "with open(os.path.join(dataloader_path, 'dataloader.pkl'), 'wb') as f:\n",
    "    pkl.dump({\n",
    "        'data': [train_sequence, train_label, val_sequence, val_label, test_sequence, test_label],\n",
    "        'tokenizer': tokenizer\n",
    "             }, f, protocol=pkl.HIGHEST_PROTOCOL)"
   ]
  }
 ],
 "metadata": {
  "kernelspec": {
   "display_name": "Python 3",
   "language": "python",
   "name": "python3"
  },
  "language_info": {
   "codemirror_mode": {
    "name": "ipython",
    "version": 3
   },
   "file_extension": ".py",
   "mimetype": "text/x-python",
   "name": "python",
   "nbconvert_exporter": "python",
   "pygments_lexer": "ipython3",
   "version": "3.10.12"
  },
  "papermill": {
   "default_parameters": {},
   "duration": 185.384755,
   "end_time": "2023-07-23T10:10:47.501866",
   "environment_variables": {},
   "exception": null,
   "input_path": "__notebook__.ipynb",
   "output_path": "__notebook__.ipynb",
   "parameters": {},
   "start_time": "2023-07-23T10:07:42.117111",
   "version": "2.4.0"
  }
 },
 "nbformat": 4,
 "nbformat_minor": 5
}
