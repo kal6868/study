{
 "cells": [
  {
   "cell_type": "code",
   "execution_count": 1,
   "id": "83686a54",
   "metadata": {
    "_cell_guid": "b1076dfc-b9ad-4769-8c92-a6c4dae69d19",
    "_uuid": "8f2839f25d086af736a60e9eeb907d3b93b6e0e5",
    "execution": {
     "iopub.execute_input": "2023-07-23T10:07:52.784328Z",
     "iopub.status.busy": "2023-07-23T10:07:52.783121Z",
     "iopub.status.idle": "2023-07-23T10:08:09.061953Z",
     "shell.execute_reply": "2023-07-23T10:08:09.060069Z"
    },
    "papermill": {
     "duration": 16.290803,
     "end_time": "2023-07-23T10:08:09.064819",
     "exception": false,
     "start_time": "2023-07-23T10:07:52.774016",
     "status": "completed"
    },
    "tags": []
   },
   "outputs": [
    {
     "name": "stderr",
     "output_type": "stream",
     "text": [
      "/opt/conda/lib/python3.10/site-packages/scipy/__init__.py:146: UserWarning: A NumPy version >=1.16.5 and <1.23.0 is required for this version of SciPy (detected version 1.23.5\n",
      "  warnings.warn(f\"A NumPy version >={np_minversion} and <{np_maxversion}\"\n",
      "/opt/conda/lib/python3.10/site-packages/tensorflow_io/python/ops/__init__.py:98: UserWarning: unable to load libtensorflow_io_plugins.so: unable to open file: libtensorflow_io_plugins.so, from paths: ['/opt/conda/lib/python3.10/site-packages/tensorflow_io/python/ops/libtensorflow_io_plugins.so']\n",
      "caused by: ['/opt/conda/lib/python3.10/site-packages/tensorflow_io/python/ops/libtensorflow_io_plugins.so: undefined symbol: _ZN3tsl6StatusC1EN10tensorflow5error4CodeESt17basic_string_viewIcSt11char_traitsIcEENS_14SourceLocationE']\n",
      "  warnings.warn(f\"unable to load libtensorflow_io_plugins.so: {e}\")\n",
      "/opt/conda/lib/python3.10/site-packages/tensorflow_io/python/ops/__init__.py:104: UserWarning: file system plugins are not loaded: unable to open file: libtensorflow_io.so, from paths: ['/opt/conda/lib/python3.10/site-packages/tensorflow_io/python/ops/libtensorflow_io.so']\n",
      "caused by: ['/opt/conda/lib/python3.10/site-packages/tensorflow_io/python/ops/libtensorflow_io.so: undefined symbol: _ZTVN10tensorflow13GcsFileSystemE']\n",
      "  warnings.warn(f\"file system plugins are not loaded: {e}\")\n"
     ]
    }
   ],
   "source": [
    "import os\n",
    "import time\n",
    "import shutil\n",
    "import re\n",
    "import string\n",
    "import pickle as pkl\n",
    "import numpy as np\n",
    "\n",
    "import torch\n",
    "import torch.nn as nn\n",
    "from torch.utils.data import DataLoader, TensorDataset\n",
    "\n",
    "import tensorflow as tf\n",
    "from tensorflow.keras.preprocessing.sequence import pad_sequences\n",
    "from tensorflow.keras.preprocessing.text import Tokenizer\n",
    "\n",
    "from sklearn.model_selection import train_test_split\n",
    "from sklearn.metrics import f1_score\n",
    "\n",
    "from tensorflow.keras import layers\n",
    "\n",
    "import matplotlib.pyplot as plt\n",
    "import seaborn as sns\n",
    "\n",
    "import math\n",
    "from collections import Counter\n",
    "\n",
    "from nltk.corpus import stopwords\n",
    "from nltk.tokenize import word_tokenize "
   ]
  },
  {
   "cell_type": "code",
   "execution_count": 2,
   "id": "02aa5fd6",
   "metadata": {
    "execution": {
     "iopub.execute_input": "2023-07-23T10:08:09.082240Z",
     "iopub.status.busy": "2023-07-23T10:08:09.081156Z",
     "iopub.status.idle": "2023-07-23T10:08:09.088103Z",
     "shell.execute_reply": "2023-07-23T10:08:09.087171Z"
    },
    "papermill": {
     "duration": 0.017557,
     "end_time": "2023-07-23T10:08:09.090189",
     "exception": false,
     "start_time": "2023-07-23T10:08:09.072632",
     "status": "completed"
    },
    "tags": []
   },
   "outputs": [],
   "source": [
    "class Timer():\n",
    "    def __init__(self, message):\n",
    "        self.message = message\n",
    "        self.st_time = time.time()\n",
    "    \n",
    "    def end(self):\n",
    "        self.elapsed = time.time()-self.st_time\n",
    "        print(f'{self.message} process took {self.elapsed//60}min {round(self.elapsed//60, 2)}sec')"
   ]
  },
  {
   "cell_type": "code",
   "execution_count": 3,
   "id": "201e7e17",
   "metadata": {
    "execution": {
     "iopub.execute_input": "2023-07-23T10:08:09.107607Z",
     "iopub.status.busy": "2023-07-23T10:08:09.106641Z",
     "iopub.status.idle": "2023-07-23T10:08:09.113506Z",
     "shell.execute_reply": "2023-07-23T10:08:09.111984Z"
    },
    "papermill": {
     "duration": 0.018469,
     "end_time": "2023-07-23T10:08:09.115825",
     "exception": false,
     "start_time": "2023-07-23T10:08:09.097356",
     "status": "completed"
    },
    "tags": []
   },
   "outputs": [],
   "source": [
    "def custom_standardization(input_data):\n",
    "  lowercase = tf.strings.lower(input_data)\n",
    "  stripped_html = tf.strings.regex_replace(lowercase, '<br />', ' ')\n",
    "  return tf.strings.regex_replace(stripped_html, '[%s]' % re.escape(string.punctuation), '')"
   ]
  },
  {
   "cell_type": "code",
   "execution_count": 4,
   "id": "81ad49af",
   "metadata": {
    "execution": {
     "iopub.execute_input": "2023-07-23T10:08:09.131762Z",
     "iopub.status.busy": "2023-07-23T10:08:09.131330Z",
     "iopub.status.idle": "2023-07-23T10:08:09.138199Z",
     "shell.execute_reply": "2023-07-23T10:08:09.136975Z"
    },
    "papermill": {
     "duration": 0.01854,
     "end_time": "2023-07-23T10:08:09.141129",
     "exception": false,
     "start_time": "2023-07-23T10:08:09.122589",
     "status": "completed"
    },
    "tags": []
   },
   "outputs": [],
   "source": [
    "def get_text_label(raw_ds):\n",
    "    list_text, list_label = [], []\n",
    "    for data, _label in raw_ds:\n",
    "        text = custom_standardization(data)\n",
    "        revised_text = [t.numpy().decode('utf-8').replace('  ', ' ').strip() for t in text]\n",
    "        label = _label.numpy().tolist()\n",
    "        list_text.extend(revised_text)\n",
    "        list_label.extend(label)\n",
    "    return list_text, list_label"
   ]
  },
  {
   "cell_type": "code",
   "execution_count": 5,
   "id": "734ddcd2",
   "metadata": {
    "execution": {
     "iopub.execute_input": "2023-07-23T10:08:09.157938Z",
     "iopub.status.busy": "2023-07-23T10:08:09.157513Z",
     "iopub.status.idle": "2023-07-23T10:08:09.164740Z",
     "shell.execute_reply": "2023-07-23T10:08:09.163125Z"
    },
    "papermill": {
     "duration": 0.018844,
     "end_time": "2023-07-23T10:08:09.167481",
     "exception": false,
     "start_time": "2023-07-23T10:08:09.148637",
     "status": "completed"
    },
    "tags": []
   },
   "outputs": [],
   "source": [
    "def sentence_tokenize(tokenizer,texts):\n",
    "    result = []\n",
    "    for text in texts:\n",
    "        sentence = []\n",
    "        word_tokens = tokenizer(text)\n",
    "        result.append(word_tokens)\n",
    "    return result"
   ]
  },
  {
   "cell_type": "code",
   "execution_count": 6,
   "id": "aa4378a1",
   "metadata": {
    "execution": {
     "iopub.execute_input": "2023-07-23T10:08:09.185969Z",
     "iopub.status.busy": "2023-07-23T10:08:09.185212Z",
     "iopub.status.idle": "2023-07-23T10:08:09.191401Z",
     "shell.execute_reply": "2023-07-23T10:08:09.190246Z"
    },
    "papermill": {
     "duration": 0.019407,
     "end_time": "2023-07-23T10:08:09.194532",
     "exception": false,
     "start_time": "2023-07-23T10:08:09.175125",
     "status": "completed"
    },
    "tags": []
   },
   "outputs": [],
   "source": [
    "def remove_stopwords(texts, stopwords):\n",
    "    result = []\n",
    "    for text in texts:\n",
    "        sentence = []\n",
    "        for word in text:\n",
    "            if word not in stopwords:\n",
    "                sentence.append(word)\n",
    "        result.append(sentence)\n",
    "    return result"
   ]
  },
  {
   "cell_type": "code",
   "execution_count": 7,
   "id": "62e9702e",
   "metadata": {
    "execution": {
     "iopub.execute_input": "2023-07-23T10:08:09.211316Z",
     "iopub.status.busy": "2023-07-23T10:08:09.210827Z",
     "iopub.status.idle": "2023-07-23T10:08:45.218176Z",
     "shell.execute_reply": "2023-07-23T10:08:45.217349Z"
    },
    "papermill": {
     "duration": 36.018872,
     "end_time": "2023-07-23T10:08:45.220508",
     "exception": false,
     "start_time": "2023-07-23T10:08:09.201636",
     "status": "completed"
    },
    "tags": []
   },
   "outputs": [
    {
     "name": "stdout",
     "output_type": "stream",
     "text": [
      "Downloading data from https://ai.stanford.edu/~amaas/data/sentiment/aclImdb_v1.tar.gz\n",
      "84125825/84125825 [==============================] - 5s 0us/step\n"
     ]
    }
   ],
   "source": [
    "# Get IMDB Dataset\n",
    "url = \"https://ai.stanford.edu/~amaas/data/sentiment/aclImdb_v1.tar.gz\"\n",
    "dataset = tf.keras.utils.get_file('aclImdb_v1', url, untar=True, cache_dir='', cache_subdir='')\n",
    "dataset_dir = os.path.join(os.path.dirname(dataset), 'aclImdb') # '/tmp/.keras/aclImdb'"
   ]
  },
  {
   "cell_type": "code",
   "execution_count": 8,
   "id": "02ea6ebd",
   "metadata": {
    "execution": {
     "iopub.execute_input": "2023-07-23T10:08:45.246416Z",
     "iopub.status.busy": "2023-07-23T10:08:45.245335Z",
     "iopub.status.idle": "2023-07-23T10:08:45.252352Z",
     "shell.execute_reply": "2023-07-23T10:08:45.251239Z"
    },
    "papermill": {
     "duration": 0.022471,
     "end_time": "2023-07-23T10:08:45.254733",
     "exception": false,
     "start_time": "2023-07-23T10:08:45.232262",
     "status": "completed"
    },
    "tags": []
   },
   "outputs": [
    {
     "name": "stdout",
     "output_type": "stream",
     "text": [
      "['imdb.vocab', 'README', 'test', 'train', 'imdbEr.txt']\n",
      "Train Directory: ['neg', 'unsupBow.feat', 'unsup', 'labeledBow.feat', 'urls_unsup.txt', 'urls_neg.txt', 'urls_pos.txt', 'pos']\n",
      "Test Directory: ['neg', 'labeledBow.feat', 'urls_neg.txt', 'urls_pos.txt', 'pos']\n"
     ]
    }
   ],
   "source": [
    "# Check files in folder\n",
    "print(os.listdir(dataset_dir))\n",
    "train_dir = os.path.join(dataset_dir, 'train')\n",
    "print(f'Train Directory: {os.listdir(train_dir)}')\n",
    "test_dir = os.path.join(dataset_dir, 'test')\n",
    "print(f'Test Directory: {os.listdir(test_dir)}')"
   ]
  },
  {
   "cell_type": "code",
   "execution_count": 9,
   "id": "bf4b8fef",
   "metadata": {
    "execution": {
     "iopub.execute_input": "2023-07-23T10:08:45.280064Z",
     "iopub.status.busy": "2023-07-23T10:08:45.279651Z",
     "iopub.status.idle": "2023-07-23T10:08:46.605824Z",
     "shell.execute_reply": "2023-07-23T10:08:46.604703Z"
    },
    "papermill": {
     "duration": 1.341641,
     "end_time": "2023-07-23T10:08:46.608517",
     "exception": false,
     "start_time": "2023-07-23T10:08:45.266876",
     "status": "completed"
    },
    "tags": []
   },
   "outputs": [],
   "source": [
    "# Remove Necessary\n",
    "remove_dir = os.path.join(train_dir, 'unsup')\n",
    "shutil.rmtree(remove_dir)"
   ]
  },
  {
   "cell_type": "code",
   "execution_count": 10,
   "id": "b12900d0",
   "metadata": {
    "execution": {
     "iopub.execute_input": "2023-07-23T10:08:46.635401Z",
     "iopub.status.busy": "2023-07-23T10:08:46.634617Z",
     "iopub.status.idle": "2023-07-23T10:08:49.096221Z",
     "shell.execute_reply": "2023-07-23T10:08:49.095292Z"
    },
    "papermill": {
     "duration": 2.478071,
     "end_time": "2023-07-23T10:08:49.098595",
     "exception": false,
     "start_time": "2023-07-23T10:08:46.620524",
     "status": "completed"
    },
    "tags": []
   },
   "outputs": [
    {
     "name": "stdout",
     "output_type": "stream",
     "text": [
      "Found 25000 files belonging to 2 classes.\n",
      "Found 25000 files belonging to 2 classes.\n"
     ]
    }
   ],
   "source": [
    "# Extract Dataset from Data files\n",
    "batch_size = 32\n",
    "seed = 42\n",
    "\n",
    "raw_train_ds = tf.keras.utils.text_dataset_from_directory(\n",
    "    '/tmp/.keras/aclImdb/train',\n",
    "    batch_size = batch_size,\n",
    "    shuffle=False\n",
    ")\n",
    "# raw_valid_ds = tf.keras.utils.text_dataset_from_directory(\n",
    "# '/tmp/.keras/aclImdb/train',\n",
    "# batch_size = batch_size,\n",
    "# validation_split = 0.2,\n",
    "# subset='validation',\n",
    "# seed=seed)\n",
    "\n",
    "raw_test_ds = tf.keras.utils.text_dataset_from_directory(\n",
    "    '/tmp/.keras/aclImdb/test',\n",
    "    shuffle=False,\n",
    "    batch_size = batch_size)"
   ]
  },
  {
   "cell_type": "code",
   "execution_count": 11,
   "id": "8797d338",
   "metadata": {
    "execution": {
     "iopub.execute_input": "2023-07-23T10:08:49.125195Z",
     "iopub.status.busy": "2023-07-23T10:08:49.124528Z",
     "iopub.status.idle": "2023-07-23T10:08:49.224952Z",
     "shell.execute_reply": "2023-07-23T10:08:49.223940Z"
    },
    "papermill": {
     "duration": 0.116429,
     "end_time": "2023-07-23T10:08:49.227492",
     "exception": false,
     "start_time": "2023-07-23T10:08:49.111063",
     "status": "completed"
    },
    "tags": []
   },
   "outputs": [
    {
     "name": "stdout",
     "output_type": "stream",
     "text": [
      "tf.Tensor(b\"Story of a man who has unnatural feelings for a pig. Starts out with a opening scene that is a terrific example of absurd comedy. A formal orchestra audience is turned into an insane, violent mob by the crazy chantings of it's singers. Unfortunately it stays absurd the WHOLE time with no general narrative eventually making it just too off putting. Even those from the era should be turned off. The cryptic dialogue would make Shakespeare seem easy to a third grader. On a technical level it's better than you might think with some good cinematography by future great Vilmos Zsigmond. Future stars Sally Kirkland and Frederic Forrest can be seen briefly.\", shape=(), dtype=string)\n",
      "\n",
      "tf.Tensor(0, shape=(), dtype=int32)\n"
     ]
    }
   ],
   "source": [
    "# Check Dataset \n",
    "print(next(iter(raw_train_ds))[0][0]) # data\n",
    "print()\n",
    "print(next(iter(raw_train_ds))[1][0]) # label"
   ]
  },
  {
   "cell_type": "code",
   "execution_count": 12,
   "id": "7d9aa84c",
   "metadata": {
    "execution": {
     "iopub.execute_input": "2023-07-23T10:08:49.265923Z",
     "iopub.status.busy": "2023-07-23T10:08:49.265415Z",
     "iopub.status.idle": "2023-07-23T10:09:08.492312Z",
     "shell.execute_reply": "2023-07-23T10:09:08.491212Z"
    },
    "papermill": {
     "duration": 19.249345,
     "end_time": "2023-07-23T10:09:08.495329",
     "exception": false,
     "start_time": "2023-07-23T10:08:49.245984",
     "status": "completed"
    },
    "tags": []
   },
   "outputs": [],
   "source": [
    "# Train Data split into Train & Valid\n",
    "raw_text, raw_label = get_text_label(raw_train_ds)\n",
    "train_text, val_text, train_label, val_label = train_test_split(raw_text, raw_label, test_size=0.2, random_state=42)\n",
    "test_text, test_label = get_text_label(raw_test_ds)"
   ]
  },
  {
   "cell_type": "code",
   "execution_count": 13,
   "id": "3cc3913c",
   "metadata": {
    "execution": {
     "iopub.execute_input": "2023-07-23T10:09:08.521334Z",
     "iopub.status.busy": "2023-07-23T10:09:08.520932Z",
     "iopub.status.idle": "2023-07-23T10:09:55.639073Z",
     "shell.execute_reply": "2023-07-23T10:09:55.636330Z"
    },
    "papermill": {
     "duration": 47.146649,
     "end_time": "2023-07-23T10:09:55.654148",
     "exception": false,
     "start_time": "2023-07-23T10:09:08.507499",
     "status": "completed"
    },
    "tags": []
   },
   "outputs": [
    {
     "name": "stdout",
     "output_type": "stream",
     "text": [
      "Tokenize process took 0.0min 0.0sec\n"
     ]
    }
   ],
   "source": [
    "word_tokenizer = word_tokenize\n",
    "timer = Timer(\"Tokenize\")\n",
    "train_raw_token = sentence_tokenize(word_tokenizer, train_text)\n",
    "val_raw_token = sentence_tokenize(word_tokenizer, val_text)\n",
    "test_raw_token = sentence_tokenize(word_tokenizer, test_text)\n",
    "timer.end()"
   ]
  },
  {
   "cell_type": "code",
   "execution_count": 14,
   "id": "1c710389",
   "metadata": {
    "execution": {
     "iopub.execute_input": "2023-07-23T10:09:55.681146Z",
     "iopub.status.busy": "2023-07-23T10:09:55.680664Z",
     "iopub.status.idle": "2023-07-23T10:09:56.894558Z",
     "shell.execute_reply": "2023-07-23T10:09:56.893379Z"
    },
    "papermill": {
     "duration": 1.230959,
     "end_time": "2023-07-23T10:09:56.897034",
     "exception": false,
     "start_time": "2023-07-23T10:09:55.666075",
     "status": "completed"
    },
    "tags": []
   },
   "outputs": [
    {
     "name": "stdout",
     "output_type": "stream",
     "text": [
      "mean: 1261.72355\n",
      "(700, 2474) (600, 1899) (800, 1882) (900, 1417) (1000, 1242) (1100, 976) (1200, 818) (500, 751) (1300, 723) (400, 704)\n"
     ]
    },
    {
     "data": {
      "image/png": "[encoded data removed]",
      "text/plain": [
       "<Figure size 1200x800 with 1 Axes>"
      ]
     },
     "metadata": {},
     "output_type": "display_data"
    }
   ],
   "source": [
    "length_count = np.array([len(train_t) for train_t in train_text])\n",
    "upper_length_count = np.array([round(len(train_t), -2) for train_t in train_text])\n",
    "plt.figure(figsize = (12, 8))\n",
    "sns.histplot(length_count)\n",
    "plt.xlim(0, 6000)\n",
    "plt.xticks(np.arange(0, 6000, 100), rotation=90)\n",
    "plt.title(\"Word length before remove stopwords\")\n",
    "print(f'mean: {length_count.mean()}')\n",
    "\n",
    "# 700~800 사이가 제일 많다.\n",
    "print(*sorted(Counter(upper_length_count).items(), key=lambda x: -x[1])[:10])"
   ]
  },
  {
   "cell_type": "code",
   "execution_count": 15,
   "id": "bbb8d9f9",
   "metadata": {
    "execution": {
     "iopub.execute_input": "2023-07-23T10:09:56.924650Z",
     "iopub.status.busy": "2023-07-23T10:09:56.924212Z",
     "iopub.status.idle": "2023-07-23T10:10:19.770055Z",
     "shell.execute_reply": "2023-07-23T10:10:19.768781Z"
    },
    "papermill": {
     "duration": 22.862618,
     "end_time": "2023-07-23T10:10:19.772649",
     "exception": false,
     "start_time": "2023-07-23T10:09:56.910031",
     "status": "completed"
    },
    "tags": []
   },
   "outputs": [
    {
     "name": "stdout",
     "output_type": "stream",
     "text": [
      "Remove Stopwords process took 0.0min 0.0sec\n"
     ]
    }
   ],
   "source": [
    "stopwords_list = stopwords.words('english')\n",
    "timer = Timer(\"Remove Stopwords\")\n",
    "train_without_stops = remove_stopwords(train_raw_token, stopwords_list)\n",
    "val_without_stops = remove_stopwords(val_raw_token, stopwords_list)\n",
    "test_without_stops = remove_stopwords(test_raw_token, stopwords_list)\n",
    "timer.end()"
   ]
  },
  {
   "cell_type": "code",
   "execution_count": 16,
   "id": "6bd81309",
   "metadata": {
    "execution": {
     "iopub.execute_input": "2023-07-23T10:10:19.803829Z",
     "iopub.status.busy": "2023-07-23T10:10:19.803371Z",
     "iopub.status.idle": "2023-07-23T10:10:20.815552Z",
     "shell.execute_reply": "2023-07-23T10:10:20.814410Z"
    },
    "papermill": {
     "duration": 1.029368,
     "end_time": "2023-07-23T10:10:20.817750",
     "exception": false,
     "start_time": "2023-07-23T10:10:19.788382",
     "status": "completed"
    },
    "tags": []
   },
   "outputs": [
    {
     "name": "stdout",
     "output_type": "stream",
     "text": [
      "mean: 121.7309\n",
      "mean: 90.0\n",
      "(100, 12803) (200, 3100) (0, 2271) (300, 1081) (400, 491) (500, 213) (600, 30) (700, 5) (900, 3) (800, 2)\n"
     ]
    },
    {
     "data": {
      "image/png": "[encoded data removed]",
      "text/plain": [
       "<Figure size 1200x800 with 1 Axes>"
      ]
     },
     "metadata": {},
     "output_type": "display_data"
    }
   ],
   "source": [
    "ws_length_count = np.array([len(train_ws) for train_ws in train_without_stops])\n",
    "ws_upper_length_count = np.array([round(len(train_ws), -2) for train_ws in train_without_stops])\n",
    "plt.figure(figsize = (12, 8))\n",
    "sns.histplot(ws_length_count)\n",
    "plt.xlim(0, 3700)\n",
    "plt.xticks(np.arange(0, 3700, 100), rotation=90)\n",
    "plt.title(\"Word length after remove stopwords\")\n",
    "print(f'mean: {ws_length_count.mean()}')\n",
    "print(f'mean: {np.median(ws_length_count)}')\n",
    "\n",
    "# 500 이하에 대부분이 포진\n",
    "print(*sorted(Counter(ws_upper_length_count).items(), key=lambda x: -x[1])[:10])"
   ]
  },
  {
   "cell_type": "code",
   "execution_count": 17,
   "id": "db3a6458",
   "metadata": {
    "execution": {
     "iopub.execute_input": "2023-07-23T10:10:20.848742Z",
     "iopub.status.busy": "2023-07-23T10:10:20.848294Z",
     "iopub.status.idle": "2023-07-23T10:10:20.854311Z",
     "shell.execute_reply": "2023-07-23T10:10:20.853107Z"
    },
    "papermill": {
     "duration": 0.024671,
     "end_time": "2023-07-23T10:10:20.856775",
     "exception": false,
     "start_time": "2023-07-23T10:10:20.832104",
     "status": "completed"
    },
    "tags": []
   },
   "outputs": [],
   "source": [
    "def get_length_percentage(dataset, limit):\n",
    "    count_under_limit = 0\n",
    "    for x in dataset:\n",
    "        if len(x) <= limit:\n",
    "            count_under_limit += 1\n",
    "    answer = (count_under_limit/len(dataset))*100\n",
    "    print(f'{answer}% contains under {limit} words')"
   ]
  },
  {
   "cell_type": "code",
   "execution_count": 18,
   "id": "9f9bed74",
   "metadata": {
    "execution": {
     "iopub.execute_input": "2023-07-23T10:10:20.887122Z",
     "iopub.status.busy": "2023-07-23T10:10:20.886705Z",
     "iopub.status.idle": "2023-07-23T10:10:20.895363Z",
     "shell.execute_reply": "2023-07-23T10:10:20.894144Z"
    },
    "papermill": {
     "duration": 0.027116,
     "end_time": "2023-07-23T10:10:20.898001",
     "exception": false,
     "start_time": "2023-07-23T10:10:20.870885",
     "status": "completed"
    },
    "tags": []
   },
   "outputs": [
    {
     "name": "stdout",
     "output_type": "stream",
     "text": [
      "99.385% contains under 500 words\n"
     ]
    }
   ],
   "source": [
    "get_length_percentage(train_without_stops, 500)"
   ]
  },
  {
   "cell_type": "code",
   "execution_count": 19,
   "id": "b1b694c0",
   "metadata": {
    "execution": {
     "iopub.execute_input": "2023-07-23T10:10:20.927696Z",
     "iopub.status.busy": "2023-07-23T10:10:20.927270Z",
     "iopub.status.idle": "2023-07-23T10:10:21.558995Z",
     "shell.execute_reply": "2023-07-23T10:10:21.557776Z"
    },
    "papermill": {
     "duration": 0.649023,
     "end_time": "2023-07-23T10:10:21.561533",
     "exception": false,
     "start_time": "2023-07-23T10:10:20.912510",
     "status": "completed"
    },
    "tags": []
   },
   "outputs": [
    {
     "name": "stdout",
     "output_type": "stream",
     "text": [
      "words appear more then 20 times in total sentence: 11085\n"
     ]
    }
   ],
   "source": [
    "sentence_words = []\n",
    "for s in train_without_stops:\n",
    "#     split_words = s.split()\n",
    "    sentence_words.extend(s)\n",
    "count_words = Counter(sentence_words)\n",
    "\n",
    "limit = 20\n",
    "used_word = len([w for w, c in count_words.items() if c > limit])\n",
    "print(f'words appear more then {limit} times in total sentence: {used_word}')"
   ]
  },
  {
   "cell_type": "code",
   "execution_count": 20,
   "id": "3830080a",
   "metadata": {
    "execution": {
     "iopub.execute_input": "2023-07-23T10:10:21.590383Z",
     "iopub.status.busy": "2023-07-23T10:10:21.589949Z",
     "iopub.status.idle": "2023-07-23T10:10:21.595353Z",
     "shell.execute_reply": "2023-07-23T10:10:21.594281Z"
    },
    "papermill": {
     "duration": 0.022811,
     "end_time": "2023-07-23T10:10:21.598015",
     "exception": false,
     "start_time": "2023-07-23T10:10:21.575204",
     "status": "completed"
    },
    "tags": []
   },
   "outputs": [],
   "source": [
    "# maxlen: 4000, test f1_score: 0.8372\n",
    "def padding_token(text_without_stops):\n",
    "    return pad_sequences(text_without_stops, dtype=object, maxlen=500, padding='post', value='<pad>')"
   ]
  },
  {
   "cell_type": "code",
   "execution_count": 21,
   "id": "40e3522a",
   "metadata": {
    "execution": {
     "iopub.execute_input": "2023-07-23T10:10:21.627712Z",
     "iopub.status.busy": "2023-07-23T10:10:21.627265Z",
     "iopub.status.idle": "2023-07-23T10:10:24.676805Z",
     "shell.execute_reply": "2023-07-23T10:10:24.675508Z"
    },
    "papermill": {
     "duration": 3.067821,
     "end_time": "2023-07-23T10:10:24.679222",
     "exception": false,
     "start_time": "2023-07-23T10:10:21.611401",
     "status": "completed"
    },
    "tags": []
   },
   "outputs": [
    {
     "name": "stdout",
     "output_type": "stream",
     "text": [
      "padding process took 0.0min 0.0sec\n",
      "Shape: Train_(20000, 500), Val_(5000, 500), Test_(25000, 500)\n"
     ]
    }
   ],
   "source": [
    "timer = Timer(\"padding\")\n",
    "train_token = padding_token(train_without_stops)\n",
    "val_token = padding_token(val_without_stops)\n",
    "test_token = padding_token(test_without_stops)\n",
    "timer.end()\n",
    "print(f'Shape: Train_{train_token.shape}, Val_{val_token.shape}, Test_{test_token.shape}')"
   ]
  },
  {
   "cell_type": "code",
   "execution_count": 22,
   "id": "2db13638",
   "metadata": {
    "execution": {
     "iopub.execute_input": "2023-07-23T10:10:24.709243Z",
     "iopub.status.busy": "2023-07-23T10:10:24.708813Z",
     "iopub.status.idle": "2023-07-23T10:10:31.493484Z",
     "shell.execute_reply": "2023-07-23T10:10:31.492228Z"
    },
    "papermill": {
     "duration": 6.803113,
     "end_time": "2023-07-23T10:10:31.496000",
     "exception": false,
     "start_time": "2023-07-23T10:10:24.692887",
     "status": "completed"
    },
    "tags": []
   },
   "outputs": [
    {
     "name": "stdout",
     "output_type": "stream",
     "text": [
      "('<pad>', 2) ('movie', 3) ('film', 4) ('one', 5) ('like', 6) ('good', 7) ('even', 8) ('time', 9) ('would', 10) ('really', 11)\n",
      "Total Words: 98715 but 11085 is used\n"
     ]
    }
   ],
   "source": [
    "tokenizer = Tokenizer(num_words=10000, oov_token = 'unknown') \n",
    "# tokenizer = Tokenizer()\n",
    "tokenizer.fit_on_texts(train_token.tolist())\n",
    "print(*sorted(tokenizer.word_index.items(), key=lambda x: x[1])[:10])\n",
    "print(f'Total Words: {len(tokenizer.word_index.items())} but {used_word} is used')"
   ]
  },
  {
   "cell_type": "code",
   "execution_count": 23,
   "id": "041b804a",
   "metadata": {
    "execution": {
     "iopub.execute_input": "2023-07-23T10:10:31.526313Z",
     "iopub.status.busy": "2023-07-23T10:10:31.525904Z",
     "iopub.status.idle": "2023-07-23T10:10:44.561338Z",
     "shell.execute_reply": "2023-07-23T10:10:44.560137Z"
    },
    "papermill": {
     "duration": 13.05404,
     "end_time": "2023-07-23T10:10:44.564234",
     "exception": false,
     "start_time": "2023-07-23T10:10:31.510194",
     "status": "completed"
    },
    "tags": []
   },
   "outputs": [],
   "source": [
    "train_sequence = np.array(tokenizer.texts_to_sequences(train_token.tolist()), dtype=np.int32)\n",
    "val_sequence = np.array(tokenizer.texts_to_sequences(val_token.tolist()), dtype=np.int32)\n",
    "test_sequence = np.array(tokenizer.texts_to_sequences(test_token.tolist()), dtype=np.int32)"
   ]
  },
  {
   "cell_type": "code",
   "execution_count": 24,
   "id": "04b71fb4",
   "metadata": {
    "execution": {
     "iopub.execute_input": "2023-07-23T10:10:44.593966Z",
     "iopub.status.busy": "2023-07-23T10:10:44.593268Z",
     "iopub.status.idle": "2023-07-23T10:10:44.601476Z",
     "shell.execute_reply": "2023-07-23T10:10:44.600448Z"
    },
    "papermill": {
     "duration": 0.025391,
     "end_time": "2023-07-23T10:10:44.603783",
     "exception": false,
     "start_time": "2023-07-23T10:10:44.578392",
     "status": "completed"
    },
    "tags": []
   },
   "outputs": [],
   "source": [
    "train_label = np.array(train_label, dtype=np.int32)\n",
    "val_label = np.array(val_label, dtype=np.int32)\n",
    "test_label = np.array(test_label, dtype=np.int32)"
   ]
  },
  {
   "cell_type": "code",
   "execution_count": 25,
   "id": "7f5f5586",
   "metadata": {
    "execution": {
     "iopub.execute_input": "2023-07-23T10:10:44.632598Z",
     "iopub.status.busy": "2023-07-23T10:10:44.632216Z",
     "iopub.status.idle": "2023-07-23T10:10:44.638334Z",
     "shell.execute_reply": "2023-07-23T10:10:44.636627Z"
    },
    "papermill": {
     "duration": 0.023124,
     "end_time": "2023-07-23T10:10:44.640630",
     "exception": false,
     "start_time": "2023-07-23T10:10:44.617506",
     "status": "completed"
    },
    "tags": []
   },
   "outputs": [
    {
     "name": "stdout",
     "output_type": "stream",
     "text": [
      "(20000, 500)\n",
      "(20000,)\n"
     ]
    }
   ],
   "source": [
    "print(train_sequence.shape)\n",
    "print(train_label.shape)"
   ]
  },
  {
   "cell_type": "code",
   "execution_count": 26,
   "id": "525cd675",
   "metadata": {
    "execution": {
     "iopub.execute_input": "2023-07-23T10:10:44.669545Z",
     "iopub.status.busy": "2023-07-23T10:10:44.669173Z",
     "iopub.status.idle": "2023-07-23T10:10:44.864960Z",
     "shell.execute_reply": "2023-07-23T10:10:44.863730Z"
    },
    "papermill": {
     "duration": 0.213289,
     "end_time": "2023-07-23T10:10:44.867508",
     "exception": false,
     "start_time": "2023-07-23T10:10:44.654219",
     "status": "completed"
    },
    "tags": []
   },
   "outputs": [],
   "source": [
    "batch_size = 64\n",
    "shuffle = False\n",
    "\n",
    "# train_dataset = TensorDataset(torch.from_numpy(train_token), torch.from_numpy(np.array(train_label)))\n",
    "# train_dataloader = DataLoader(train_dataset, batch_size=batch_size, shuffle=shuffle)\n",
    "\n",
    "# val_dataset = TensorDataset(torch.from_numpy(val_token), torch.from_numpy(np.array(val_label)))\n",
    "# val_dataloader = DataLoader(val_dataset, batch_size=batch_size, shuffle=shuffle)\n",
    "\n",
    "# test_dataset = TensorDataset(torch.from_numpy(test_token), torch.from_numpy(np.array(test_label)))\n",
    "# test_dataloader = DataLoader(test_dataset, batch_size=batch_size, shuffle=shuffle)\n",
    "\n",
    "dataloader_path = '/kaggle/working/dataloader'\n",
    "if not os.path.exists(dataloader_path):\n",
    "    os.makedirs(dataloader_path)\n",
    "    \n",
    "with open(os.path.join(dataloader_path, 'dataloader.pkl'), 'wb') as f:\n",
    "    pkl.dump({\n",
    "        'data': [train_sequence, train_label, val_sequence, val_label, test_sequence, test_label],\n",
    "        'tokenizer': tokenizer\n",
    "             }, f, protocol=pkl.HIGHEST_PROTOCOL)"
   ]
  },
  {
   "cell_type": "code",
   "execution_count": null,
   "id": "55221433",
   "metadata": {},
   "outputs": [],
   "source": [
    "dataloader_path = '/kaggle/input/transformer-xai-dataloader/dataloader'\n",
    "load_dataloader = pkl.load(open(os.path.join(dataloader_path, 'dataloader.pkl'), 'rb'))\n",
    "train_sequence, train_label, val_sequence, val_label, test_sequence, test_label = load_dataloader['data']\n",
    "\n",
    "batch_size = 256\n",
    "shuffle = False\n",
    "\n",
    "# Label type이 Int64가 아니면 loss_fn에서 오류 발생\n",
    "train_dataset = TensorDataset(torch.from_numpy(train_sequence), torch.from_numpy(train_label.astype(np.int64)))\n",
    "train_dataloader = DataLoader(train_dataset, batch_size=batch_size, shuffle=shuffle)\n",
    "\n",
    "val_dataset = TensorDataset(torch.from_numpy(val_sequence), torch.from_numpy(val_label.astype(np.int64)))\n",
    "val_dataloader = DataLoader(val_dataset, batch_size=batch_size, shuffle=shuffle)\n",
    "\n",
    "test_dataset = TensorDataset(torch.from_numpy(test_sequence), torch.from_numpy(test_label.astype(np.int64)))\n",
    "test_dataloader = DataLoader(test_dataset, batch_size=batch_size, shuffle=shuffle)"
   ]
  },
  {
   "cell_type": "code",
   "execution_count": null,
   "id": "85cc15dd",
   "metadata": {},
   "outputs": [],
   "source": [
    "class Custom_tf_encoder(nn.Module):\n",
    "    def __init__(self, used_word, embed_dim, nhead, encoder_layers, max_len=500):\n",
    "        super().__init__()\n",
    "        self.embedding_layer = nn.Embedding(used_word, embed_dim)\n",
    "        self.encoders = nn.ModuleList([nn.TransformerEncoderLayer(d_model=embed_dim, nhead=nhead, dim_feedforward=(embed_dim*2), dropout=0.2, activation='gelu', batch_first=True) for _ in range(encoder_layers)])\n",
    "        self.avgpool = nn.AvgPool1d(kernel_size=embed_dim)\n",
    "        self.fc = nn.Linear(embed_dim, 2)\n",
    "        self.maxpool = nn.MaxPool2d(kernel_size = (max_len,1))\n",
    "    \n",
    "    def mk_padding_mask(self, text):\n",
    "        # <pad>: 2\n",
    "        return torch.eq(text, 2)\n",
    "        \n",
    "    def forward(self, text):\n",
    "        x = self.embedding_layer(text)\n",
    "        padding_mask = self.mk_padding_mask(text).to(x.device)\n",
    "        for layer in self.encoders:\n",
    "            x = layer(x, src_key_padding_mask=padding_mask)\n",
    "        x = self.maxpool(x) # (batch, 1, embed_dim)\n",
    "        x = x.squeeze(1) # (batch, embed_dim)\n",
    "        x = self.fc(x)\n",
    "        \n",
    "        return x"
   ]
  },
  {
   "cell_type": "code",
   "execution_count": null,
   "id": "dd5e7725",
   "metadata": {},
   "outputs": [],
   "source": [
    "def training(model, train_dataloader, loss_fn, optimizer, device):\n",
    "    train_loss = 0.0\n",
    "    train_y, train_pred = [], []\n",
    "    model.train()\n",
    "    for x, y in train_dataloader:\n",
    "        optimizer.zero_grad()\n",
    "        pred = model(x.to(device))\n",
    "        loss = loss_fn(pred, y.to(device))\n",
    "        train_loss += loss.item()\n",
    "        loss.backward()\n",
    "        optimizer.step()\n",
    "        train_y.extend(y.detach().cpu().tolist())\n",
    "        train_pred.extend(torch.argmax(pred, axis=1).detach().cpu().tolist())\n",
    "    train_f1_score = f1_score(train_y, train_pred)\n",
    "    return train_loss, train_f1_score    \n",
    "\n",
    "def validation(model, val_dataloader, loss_fn, device):\n",
    "    val_loss = 0.0\n",
    "    val_y, val_pred = [], []\n",
    "    \n",
    "    model.eval()\n",
    "    with torch.no_grad():\n",
    "        for x, y in val_dataloader:\n",
    "            pred = model(x.to(device))\n",
    "            loss = loss_fn(pred, y.to(device))\n",
    "            val_loss += loss.item()\n",
    "\n",
    "            val_y.extend(y.detach().cpu().tolist())\n",
    "            val_pred.extend(torch.argmax(pred, axis=1).detach().cpu().tolist())\n",
    "    \n",
    "    val_f1_score = f1_score(val_y, val_pred)\n",
    "    return val_loss, val_f1_score   \n",
    "\n",
    "def test(model, ckpt_path, test_dataloader, device):\n",
    "    model.module.load_state_dict(torch.load(ckpt_path))\n",
    "    model = model.to(device)\n",
    "    \n",
    "    val_loss = 0.0\n",
    "    test_y, test_pred = [], []\n",
    "    \n",
    "    model.eval()\n",
    "    with torch.no_grad():\n",
    "        for x, y in test_dataloader:\n",
    "            pred = model(x.to(device))\n",
    "            loss = loss_fn(pred, y.to(device))\n",
    "            val_loss += loss.item()\n",
    "\n",
    "            test_y.extend(y.detach().cpu().tolist())\n",
    "            test_pred.extend(torch.argmax(pred, axis=1).detach().cpu().tolist())\n",
    "    test_f1_score = f1_score(test_y, test_pred)\n",
    "    return test_f1_score   "
   ]
  },
  {
   "cell_type": "code",
   "execution_count": null,
   "id": "e49be518",
   "metadata": {},
   "outputs": [],
   "source": [
    "def train_process(epochs, model, loss_fn, optimizer, train_dataloader, val_dataloader, test_dataloader, device):\n",
    "    best_loss, patience = float('inf'), 0\n",
    "    \n",
    "    # make ckpt saving directory \n",
    "    if not os.path.exists('/kaggle/working/ckpt'):\n",
    "        os.makedirs('/kaggle/working/ckpt', exist_ok=True)\n",
    "        \n",
    "    for epoch in range(epochs):\n",
    "        train_st_time=time.time()\n",
    "        train_loss, train_f1 = training(model, train_dataloader, loss_fn, optimizer, device)\n",
    "        val_loss, val_f1 = validation(model, val_dataloader, loss_fn, device)\n",
    "        \n",
    "        if val_loss < best_loss:\n",
    "            patience = 0\n",
    "            best_loss = val_loss\n",
    "            ckpt_path = '/kaggle/working/ckpt/ft_transformer_encoder.pt'\n",
    "            torch.save(model.module.state_dict(), ckpt_path)\n",
    "            \n",
    "        elif val_loss >= best_loss:\n",
    "            patience += 1\n",
    "            if patience == 10:\n",
    "                break\n",
    "                print(f'Eearly Stopped {epoch}')\n",
    " \n",
    "        print(f'epoch: {epoch:3d}, train loss: {train_loss:8.4f}, valid loss: {val_loss:8.4f}, train f1 score: {train_f1*100:8.4f}, val f1 score: {val_f1*100:8.4f}, patience: {patience:2d}, time: {(time.time()-train_st_time):5.2f}')\n",
    " \n",
    "    test_f1 = test(model, ckpt_path, test_dataloader, device) \n",
    "    print()\n",
    "    print(f\"Test F1 Score: {test_f1:8.4f}\")"
   ]
  },
  {
   "cell_type": "code",
   "execution_count": null,
   "id": "032aa42a",
   "metadata": {},
   "outputs": [],
   "source": [
    "device = torch.device('cuda' if torch.cuda.is_available() else 'cpu')\n",
    "epochs = 1000\n",
    "# model = nn.DataParallel(Custom_tf_encoder(16996, 128, 1)).to(device)\n",
    "model = nn.DataParallel(Custom_tf_encoder(10000, 256, 2, 6)).to(device) # used_word, embed_dim, nhead, encoder_layers, max_len=1000\n",
    "loss_fn = nn.CrossEntropyLoss()\n",
    "optimizer = torch.optim.AdamW(model.parameters(), lr=1e-5)"
   ]
  },
  {
   "cell_type": "code",
   "execution_count": null,
   "id": "e4c6618c",
   "metadata": {},
   "outputs": [
    {
     "name": "stdout",
     "output_type": "stream",
     "text": [
      "epoch:   0, train loss:  56.2220, valid loss:  13.4039, train f1 score:  54.7940, val f1 score:  61.5033, patience:  0, time: 68.12\n",
      "epoch:   1, train loss:  50.7169, valid loss:  12.2871, train f1 score:  64.0746, val f1 score:  67.7413, patience:  0, time: 66.26\n",
      "epoch:   2, train loss:  46.9346, valid loss:  11.3543, train f1 score:  70.5906, val f1 score:  72.1767, patience:  0, time: 65.64\n",
      "epoch:   3, train loss:  43.3712, valid loss:  10.5980, train f1 score:  74.6599, val f1 score:  74.4690, patience:  0, time: 65.43\n",
      "epoch:   4, train loss:  40.6886, valid loss:  10.0066, train f1 score:  76.6127, val f1 score:  76.7898, patience:  0, time: 65.33\n",
      "epoch:   5, train loss:  38.7021, valid loss:   9.5655, train f1 score:  77.7001, val f1 score:  78.2538, patience:  0, time: 65.18\n",
      "epoch:   6, train loss:  36.9126, valid loss:   9.2372, train f1 score:  79.0080, val f1 score:  79.0179, patience:  0, time: 65.11\n",
      "epoch:   7, train loss:  35.6195, valid loss:   8.9666, train f1 score:  79.8424, val f1 score:  80.1849, patience:  0, time: 65.26\n",
      "epoch:   8, train loss:  34.5618, valid loss:   8.7386, train f1 score:  80.4121, val f1 score:  80.9115, patience:  0, time: 65.27\n",
      "epoch:   9, train loss:  33.6913, valid loss:   8.5387, train f1 score:  81.2260, val f1 score:  81.5007, patience:  0, time: 65.16\n",
      "epoch:  10, train loss:  32.8021, valid loss:   8.3636, train f1 score:  81.6393, val f1 score:  81.8926, patience:  0, time: 65.15\n",
      "epoch:  11, train loss:  32.0320, valid loss:   8.2018, train f1 score:  82.2610, val f1 score:  82.4491, patience:  0, time: 65.45\n",
      "epoch:  12, train loss:  31.2441, valid loss:   8.0630, train f1 score:  82.6384, val f1 score:  82.7408, patience:  0, time: 65.32\n",
      "epoch:  13, train loss:  30.6620, valid loss:   7.9261, train f1 score:  83.0845, val f1 score:  83.0323, patience:  0, time: 65.35\n",
      "epoch:  14, train loss:  30.0139, valid loss:   7.7883, train f1 score:  83.5861, val f1 score:  83.2137, patience:  0, time: 65.20\n",
      "epoch:  15, train loss:  29.3886, valid loss:   7.6746, train f1 score:  84.1425, val f1 score:  83.7339, patience:  0, time: 65.09\n",
      "epoch:  16, train loss:  28.7316, valid loss:   7.5824, train f1 score:  84.3769, val f1 score:  83.8264, patience:  0, time: 65.14\n",
      "epoch:  17, train loss:  28.2801, valid loss:   7.4919, train f1 score:  84.8155, val f1 score:  84.1608, patience:  0, time: 65.25\n",
      "epoch:  18, train loss:  27.7393, valid loss:   7.4050, train f1 score:  85.0319, val f1 score:  84.2894, patience:  0, time: 65.18\n",
      "epoch:  19, train loss:  27.2999, valid loss:   7.3294, train f1 score:  85.2561, val f1 score:  84.4865, patience:  0, time: 65.10\n",
      "epoch:  20, train loss:  26.9142, valid loss:   7.2516, train f1 score:  85.5459, val f1 score:  84.6367, patience:  0, time: 65.11\n",
      "epoch:  21, train loss:  26.6332, valid loss:   7.1832, train f1 score:  85.8300, val f1 score:  84.9941, patience:  0, time: 65.25\n",
      "epoch:  22, train loss:  26.1492, valid loss:   7.1163, train f1 score:  85.9871, val f1 score:  85.2640, patience:  0, time: 65.18\n",
      "epoch:  23, train loss:  25.7617, valid loss:   7.0455, train f1 score:  86.4581, val f1 score:  85.4488, patience:  0, time: 65.17\n",
      "epoch:  24, train loss:  25.4366, valid loss:   7.0031, train f1 score:  86.6878, val f1 score:  85.5514, patience:  0, time: 65.09\n",
      "epoch:  25, train loss:  25.0103, valid loss:   6.9287, train f1 score:  86.6838, val f1 score:  85.6522, patience:  0, time: 65.15\n",
      "epoch:  26, train loss:  24.6686, valid loss:   6.8815, train f1 score:  86.9436, val f1 score:  85.8438, patience:  0, time: 65.56\n",
      "epoch:  27, train loss:  24.3999, valid loss:   6.8279, train f1 score:  87.1620, val f1 score:  85.9957, patience:  0, time: 65.17\n",
      "epoch:  28, train loss:  24.1528, valid loss:   6.7735, train f1 score:  87.3613, val f1 score:  86.0470, patience:  0, time: 65.17\n",
      "epoch:  29, train loss:  23.7106, valid loss:   6.7323, train f1 score:  87.5006, val f1 score:  86.1089, patience:  0, time: 65.15\n",
      "epoch:  30, train loss:  23.5065, valid loss:   6.6895, train f1 score:  87.6433, val f1 score:  86.1769, patience:  0, time: 65.14\n",
      "epoch:  31, train loss:  23.2820, valid loss:   6.6637, train f1 score:  87.6739, val f1 score:  86.3672, patience:  0, time: 65.18\n",
      "epoch:  32, train loss:  22.8940, valid loss:   6.6303, train f1 score:  87.9438, val f1 score:  86.4183, patience:  0, time: 65.12\n",
      "epoch:  33, train loss:  22.5606, valid loss:   6.5869, train f1 score:  88.2478, val f1 score:  86.4662, patience:  0, time: 65.09\n",
      "epoch:  34, train loss:  22.2783, valid loss:   6.5476, train f1 score:  88.3458, val f1 score:  86.4447, patience:  0, time: 65.13\n",
      "epoch:  35, train loss:  21.9956, valid loss:   6.5152, train f1 score:  88.5818, val f1 score:  86.6627, patience:  0, time: 65.11\n",
      "epoch:  36, train loss:  21.7238, valid loss:   6.5005, train f1 score:  88.7380, val f1 score:  86.6086, patience:  0, time: 65.19\n",
      "epoch:  37, train loss:  21.5267, valid loss:   6.4686, train f1 score:  88.8162, val f1 score:  86.9427, patience:  0, time: 65.25\n",
      "epoch:  38, train loss:  21.1780, valid loss:   6.4592, train f1 score:  88.9835, val f1 score:  86.9600, patience:  0, time: 65.13\n",
      "epoch:  39, train loss:  20.9083, valid loss:   6.4239, train f1 score:  89.1017, val f1 score:  87.0192, patience:  0, time: 64.99\n",
      "epoch:  40, train loss:  20.7691, valid loss:   6.4040, train f1 score:  89.3486, val f1 score:  86.9722, patience:  0, time: 65.08\n",
      "epoch:  41, train loss:  20.4803, valid loss:   6.4054, train f1 score:  89.3767, val f1 score:  86.9181, patience:  1, time: 65.06\n",
      "epoch:  42, train loss:  20.2530, valid loss:   6.4026, train f1 score:  89.5983, val f1 score:  87.0281, patience:  0, time: 65.50\n",
      "epoch:  43, train loss:  20.0131, valid loss:   6.3905, train f1 score:  89.7872, val f1 score:  87.1446, patience:  0, time: 65.06\n",
      "epoch:  44, train loss:  19.6876, valid loss:   6.3820, train f1 score:  90.0273, val f1 score:  87.1836, patience:  0, time: 65.20\n",
      "epoch:  45, train loss:  19.4927, valid loss:   6.3843, train f1 score:  89.9027, val f1 score:  87.2340, patience:  1, time: 65.23\n",
      "epoch:  46, train loss:  19.4147, valid loss:   6.3684, train f1 score:  90.2371, val f1 score:  87.2625, patience:  0, time: 65.15\n",
      "epoch:  47, train loss:  19.0920, valid loss:   6.3752, train f1 score:  90.2330, val f1 score:  87.1691, patience:  1, time: 65.02\n",
      "epoch:  48, train loss:  18.7945, valid loss:   6.3737, train f1 score:  90.2930, val f1 score:  87.4122, patience:  2, time: 65.11\n",
      "epoch:  49, train loss:  18.7188, valid loss:   6.3760, train f1 score:  90.3242, val f1 score:  87.3476, patience:  3, time: 65.21\n",
      "epoch:  50, train loss:  18.4515, valid loss:   6.3954, train f1 score:  90.5246, val f1 score:  87.1992, patience:  4, time: 65.24\n",
      "epoch:  51, train loss:  18.2448, valid loss:   6.3853, train f1 score:  90.6463, val f1 score:  87.3997, patience:  5, time: 65.08\n",
      "epoch:  52, train loss:  17.9084, valid loss:   6.4077, train f1 score:  90.7927, val f1 score:  87.2624, patience:  6, time: 64.98\n",
      "epoch:  53, train loss:  17.8259, valid loss:   6.4164, train f1 score:  90.9534, val f1 score:  87.4116, patience:  7, time: 65.06\n",
      "epoch:  54, train loss:  17.6155, valid loss:   6.4165, train f1 score:  91.0430, val f1 score:  87.4268, patience:  8, time: 65.14\n",
      "epoch:  55, train loss:  17.3905, valid loss:   6.4372, train f1 score:  91.1147, val f1 score:  87.3285, patience:  9, time: 65.08\n",
      "\n",
      "Test F1 Score:   0.8616\n"
     ]
    }
   ],
   "source": [
    "train_process(epochs, model, loss_fn, optimizer, train_dataloader, val_dataloader, test_dataloader, device)"
   ]
  },
  {
   "cell_type": "code",
   "execution_count": null,
   "id": "6285457d",
   "metadata": {},
   "outputs": [
    {
     "data": {
      "text/plain": [
       "25"
      ]
     },
     "metadata": {},
     "output_type": "display_data"
    }
   ],
   "source": [
    "dict_dataloader = pkl.load(open('/kaggle/input/transformer-xai-dataloader/dataloader/dataloader.pkl', 'rb'))\n",
    "_, _, _, _, test_x, test_y = dict_dataloader['data']\n",
    "del _\n",
    "gc.collect()"
   ]
  },
  {
   "cell_type": "code",
   "execution_count": null,
   "id": "ef4e0673",
   "metadata": {},
   "outputs": [],
   "source": [
    "class Custom_tf_encoder(nn.Module):\n",
    "    def __init__(self, used_word, embed_dim, nhead, encoder_layers, max_len=500):\n",
    "        super().__init__()\n",
    "        self.embedding_layer = nn.Embedding(used_word, embed_dim)\n",
    "        self.encoders = nn.ModuleList([nn.TransformerEncoderLayer(d_model=embed_dim, nhead=nhead, dim_feedforward=(embed_dim*2), dropout=0.2, activation='gelu', batch_first=True) for _ in range(encoder_layers)])\n",
    "        self.avgpool = nn.AvgPool1d(kernel_size=embed_dim)\n",
    "        self.fc = nn.Linear(embed_dim, 2)\n",
    "        self.maxpool = nn.MaxPool2d(kernel_size = (max_len,1))\n",
    "    \n",
    "    def mk_padding_mask(self, text):\n",
    "        return torch.eq(text, 2)\n",
    "        \n",
    "    def forward(self, text):\n",
    "        x = self.embedding_layer(text)\n",
    "        padding_mask = self.mk_padding_mask(text).to(x.device)\n",
    "        for layer in self.encoders:\n",
    "            x = layer(x, src_key_padding_mask=padding_mask)\n",
    "        x = self.maxpool(x) # (batch, 1, embed_dim)\n",
    "        x = x.squeeze(1) # (batch, embed_dim)\n",
    "        x = self.fc(x)\n",
    "        \n",
    "        return x"
   ]
  },
  {
   "cell_type": "code",
   "execution_count": null,
   "id": "1711cd46",
   "metadata": {},
   "outputs": [],
   "source": [
    "def inference(model, dataloader, device):\n",
    "    # get the device where the model is located in\n",
    "#     device = next(model.parameters()).device\n",
    "    y_true, y_pred= [], []\n",
    "    model.eval()\n",
    "    with torch.no_grad():\n",
    "        for x, y in dataloader:\n",
    "            y_true.extend(y.detach().cpu().tolist())\n",
    "            pred = model(x.to(device))\n",
    "            y_pred.extend(torch.argmax(pred, axis=1).detach().cpu().tolist())\n",
    "\n",
    "    return y_true, y_pred"
   ]
  },
  {
   "cell_type": "code",
   "execution_count": null,
   "id": "04691847",
   "metadata": {},
   "outputs": [],
   "source": [
    "# Set Dataloader\n",
    "test_dataset = TensorDataset(torch.from_numpy(test_x), torch.from_numpy(test_y.astype(np.int64)))\n",
    "test_dataloader = DataLoader(test_dataset, shuffle=False, batch_size=512)\n",
    "\n",
    "# Set Model\n",
    "model = Custom_tf_encoder(10000, 256, 2, 6)\n",
    "device = torch.device('cuda' if torch.cuda.is_available() else 'cpu')\n",
    "model.load_state_dict(torch.load('/kaggle/input/transformer-xai-train/ckpt/ft_transformer_encoder.pt'))\n",
    "model = nn.DataParallel(model).to(device)"
   ]
  },
  {
   "cell_type": "code",
   "execution_count": null,
   "id": "a23914b2",
   "metadata": {},
   "outputs": [
    {
     "name": "stderr",
     "output_type": "stream",
     "text": [
      "/opt/conda/lib/python3.10/site-packages/torch/nn/modules/transformer.py:544: UserWarning: Converting mask without torch.bool dtype to bool; this will negatively affect performance. Prefer to use a boolean mask directly. (Triggered internally at /usr/local/src/pytorch/aten/src/ATen/native/transformers/attention.cpp:150.)\n",
      "  return torch._transformer_encoder_layer_fwd(\n"
     ]
    },
    {
     "name": "stdout",
     "output_type": "stream",
     "text": [
      "Elasped Time is 0.0min, 20.57sec\n"
     ]
    }
   ],
   "source": [
    "st_time = time.time()\n",
    "y_true, y_pred = inference(model, test_dataloader, device)\n",
    "time_elasped = time.time() - st_time\n",
    "print(f'Elasped Time is {time_elasped//60}min, {round(time_elasped%60, 2)}sec')"
   ]
  },
  {
   "cell_type": "code",
   "execution_count": null,
   "id": "10d6aae9",
   "metadata": {},
   "outputs": [
    {
     "name": "stdout",
     "output_type": "stream",
     "text": [
      "f1_score: 0.8616\n",
      "classification report: \n",
      "               precision    recall  f1-score   support\n",
      "\n",
      "    negative     0.8653    0.8546    0.8599     12500\n",
      "    positive     0.8563    0.8670    0.8616     12500\n",
      "\n",
      "    accuracy                         0.8608     25000\n",
      "   macro avg     0.8608    0.8608    0.8608     25000\n",
      "weighted avg     0.8608    0.8608    0.8608     25000\n",
      "\n"
     ]
    }
   ],
   "source": [
    "print(f'f1_score: {f1_score(y_true, y_pred):6.4f}')\n",
    "print(f'classification report: \\n {classification_report(y_true, y_pred, digits=4, target_names = [\"negative\", \"positive\"])}')"
   ]
  },
  {
   "cell_type": "code",
   "execution_count": null,
   "id": "e551774d",
   "metadata": {},
   "outputs": [
    {
     "data": {
      "text/plain": [
       "<Axes: >"
      ]
     },
     "metadata": {},
     "output_type": "display_data"
    },
    {
     "data": {
      "image/png": "[encoded data removed]",
      "text/plain": [
       "<Figure size 800x600 with 2 Axes>"
      ]
     },
     "metadata": {},
     "output_type": "display_data"
    }
   ],
   "source": [
    "conf_matrix = confusion_matrix(y_true, y_pred)\n",
    "plt.figure(figsize = (8, 6))\n",
    "labels = ['negative', 'positive']\n",
    "sns.heatmap(conf_matrix, fmt='d', annot=True, xticklabels=labels, yticklabels=labels)"
   ]
  }
 ],
 "metadata": {
  "kernelspec": {
   "display_name": "Python 3",
   "language": "python",
   "name": "python3"
  },
  "language_info": {
   "codemirror_mode": {
    "name": "ipython",
    "version": 3
   },
   "file_extension": ".py",
   "mimetype": "text/x-python",
   "name": "python",
   "nbconvert_exporter": "python",
   "pygments_lexer": "ipython3",
   "version": "3.10.12"
  },
  "papermill": {
   "default_parameters": {},
   "duration": 185.384755,
   "end_time": "2023-07-23T10:10:47.501866",
   "environment_variables": {},
   "exception": null,
   "input_path": "__notebook__.ipynb",
   "output_path": "__notebook__.ipynb",
   "parameters": {},
   "start_time": "2023-07-23T10:07:42.117111",
   "version": "2.4.0"
  }
 },
 "nbformat": 4,
 "nbformat_minor": 5
}
