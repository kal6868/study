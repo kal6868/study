{
 "cells": [
  {
   "cell_type": "code",
   "execution_count": 1,
   "id": "24fe97ec",
   "metadata": {
    "_cell_guid": "b1076dfc-b9ad-4769-8c92-a6c4dae69d19",
    "_uuid": "8f2839f25d086af736a60e9eeb907d3b93b6e0e5",
    "execution": {
     "iopub.execute_input": "2023-05-07T10:40:46.800437Z",
     "iopub.status.busy": "2023-05-07T10:40:46.799965Z",
     "iopub.status.idle": "2023-05-07T10:40:50.970432Z",
     "shell.execute_reply": "2023-05-07T10:40:50.969488Z"
    },
    "papermill": {
     "duration": 4.181288,
     "end_time": "2023-05-07T10:40:50.972797",
     "exception": false,
     "start_time": "2023-05-07T10:40:46.791509",
     "status": "completed"
    },
    "tags": []
   },
   "outputs": [
    {
     "name": "stderr",
     "output_type": "stream",
     "text": [
      "/opt/conda/lib/python3.10/site-packages/scipy/__init__.py:146: UserWarning: A NumPy version >=1.16.5 and <1.23.0 is required for this version of SciPy (detected version 1.23.5\n",
      "  warnings.warn(f\"A NumPy version >={np_minversion} and <{np_maxversion}\"\n"
     ]
    }
   ],
   "source": [
    "import os\n",
    "\n",
    "import torch \n",
    "import torchvision\n",
    "import torch.nn.functional as F\n",
    "from torch import nn, optim\n",
    "from torchvision import transforms, datasets\n",
    "\n",
    "import matplotlib.pyplot as plt\n",
    "\n",
    "import zipfile\n",
    "from PIL import Image\n",
    "import numpy as np\n",
    "from tqdm import tqdm\n",
    "from sklearn.model_selection import train_test_split\n",
    "\n",
    "from torch.utils.data import DataLoader"
   ]
  },
  {
   "cell_type": "code",
   "execution_count": 2,
   "id": "6aeb673c",
   "metadata": {
    "execution": {
     "iopub.execute_input": "2023-05-07T10:40:50.986227Z",
     "iopub.status.busy": "2023-05-07T10:40:50.984672Z",
     "iopub.status.idle": "2023-05-07T10:40:50.990053Z",
     "shell.execute_reply": "2023-05-07T10:40:50.989276Z"
    },
    "papermill": {
     "duration": 0.012745,
     "end_time": "2023-05-07T10:40:50.991845",
     "exception": false,
     "start_time": "2023-05-07T10:40:50.979100",
     "status": "completed"
    },
    "tags": []
   },
   "outputs": [],
   "source": [
    "class args:\n",
    "    epoch = 10\n",
    "    batch_size = 64"
   ]
  },
  {
   "attachments": {},
   "cell_type": "markdown",
   "id": "080ccc1f",
   "metadata": {},
   "source": [
    "* device를 설정해 놓으면 to.device를 용이하게 쓸 수 있음, gpu가 사용 가능한 상태라도 cpu로 설정해 놓으면 cpu만 사용 가능하기 때문"
   ]
  },
  {
   "cell_type": "code",
   "execution_count": 3,
   "id": "430b1abf",
   "metadata": {
    "execution": {
     "iopub.execute_input": "2023-05-07T10:40:51.002464Z",
     "iopub.status.busy": "2023-05-07T10:40:51.001606Z",
     "iopub.status.idle": "2023-05-07T10:40:51.005865Z",
     "shell.execute_reply": "2023-05-07T10:40:51.005112Z"
    },
    "papermill": {
     "duration": 0.011355,
     "end_time": "2023-05-07T10:40:51.007599",
     "exception": false,
     "start_time": "2023-05-07T10:40:50.996244",
     "status": "completed"
    },
    "tags": []
   },
   "outputs": [],
   "source": [
    "device = \"cuda\" if torch.cuda.is_available else \"cpu\"\n",
    "# device = \"cpu\""
   ]
  },
  {
   "attachments": {},
   "cell_type": "markdown",
   "id": "0d63e5b5",
   "metadata": {},
   "source": [
    "* Kaggle에서 Dogs vs . Cats Competition 데이터를 받아온 후 압축 해제"
   ]
  },
  {
   "cell_type": "code",
   "execution_count": 4,
   "id": "f0c04f79",
   "metadata": {
    "execution": {
     "iopub.execute_input": "2023-05-07T10:40:51.017532Z",
     "iopub.status.busy": "2023-05-07T10:40:51.017291Z",
     "iopub.status.idle": "2023-05-07T10:41:07.480637Z",
     "shell.execute_reply": "2023-05-07T10:41:07.479649Z"
    },
    "papermill": {
     "duration": 16.47132,
     "end_time": "2023-05-07T10:41:07.483383",
     "exception": false,
     "start_time": "2023-05-07T10:40:51.012063",
     "status": "completed"
    },
    "tags": []
   },
   "outputs": [],
   "source": [
    "train_data_path = \"/kaggle/input/dogs-vs-cats/train.zip\"\n",
    "test_data_path =  \"/kaggle/input/dogs-vs-cats/test1.zip\"\n",
    "for path in [train_data_path, test_data_path]:\n",
    "    with zipfile.ZipFile(path, \"r\") as zip:\n",
    "        zip.extractall()"
   ]
  },
  {
   "attachments": {},
   "cell_type": "markdown",
   "id": "482c93e7",
   "metadata": {},
   "source": [
    "* 가용 메모리상 전체 데이터를 사용할 수 없어 파일 이름의 순서대로 정렬한 후 512개만 무작위로 추출"
   ]
  },
  {
   "cell_type": "code",
   "execution_count": 5,
   "id": "d1991221",
   "metadata": {
    "execution": {
     "iopub.execute_input": "2023-05-07T10:41:07.494049Z",
     "iopub.status.busy": "2023-05-07T10:41:07.493772Z",
     "iopub.status.idle": "2023-05-07T10:41:07.535117Z",
     "shell.execute_reply": "2023-05-07T10:41:07.534307Z"
    },
    "papermill": {
     "duration": 0.048952,
     "end_time": "2023-05-07T10:41:07.537138",
     "exception": false,
     "start_time": "2023-05-07T10:41:07.488186",
     "status": "completed"
    },
    "tags": []
   },
   "outputs": [],
   "source": [
    "train_files = os.listdir(\"/kaggle/working/train\")\n",
    "cat_files = sorted([file for file in train_files if file.split(\".\")[0] == \"cat\"], key=lambda x: int(x.split(\".\")[1]))\n",
    "dog_files = sorted([file for file in train_files if file.split(\".\")[0] == \"dog\"], key=lambda x: int(x.split(\".\")[1]))"
   ]
  },
  {
   "cell_type": "code",
   "execution_count": 6,
   "id": "75f9777e",
   "metadata": {
    "execution": {
     "iopub.execute_input": "2023-05-07T10:41:07.547854Z",
     "iopub.status.busy": "2023-05-07T10:41:07.547159Z",
     "iopub.status.idle": "2023-05-07T10:41:07.558694Z",
     "shell.execute_reply": "2023-05-07T10:41:07.557920Z"
    },
    "papermill": {
     "duration": 0.018721,
     "end_time": "2023-05-07T10:41:07.560509",
     "exception": false,
     "start_time": "2023-05-07T10:41:07.541788",
     "status": "completed"
    },
    "tags": []
   },
   "outputs": [],
   "source": [
    "cat_random_sample = np.random.choice(cat_files, 512)\n",
    "dog_random_sample = np.random.choice(dog_files, 512)"
   ]
  },
  {
   "attachments": {},
   "cell_type": "markdown",
   "id": "9431315a",
   "metadata": {},
   "source": [
    "* Dogs vs. Cats 파일의 이미지 크기가 모두 달라, 256 * 256 크기로 Resize"
   ]
  },
  {
   "cell_type": "code",
   "execution_count": 7,
   "id": "821c4167",
   "metadata": {
    "execution": {
     "iopub.execute_input": "2023-05-07T10:41:07.571306Z",
     "iopub.status.busy": "2023-05-07T10:41:07.570437Z",
     "iopub.status.idle": "2023-05-07T10:41:07.575677Z",
     "shell.execute_reply": "2023-05-07T10:41:07.574907Z"
    },
    "papermill": {
     "duration": 0.012445,
     "end_time": "2023-05-07T10:41:07.577498",
     "exception": false,
     "start_time": "2023-05-07T10:41:07.565053",
     "status": "completed"
    },
    "tags": []
   },
   "outputs": [],
   "source": [
    "def img_resize(files,path):\n",
    "    img_to_numpy = []\n",
    "    for file in tqdm(files):\n",
    "        file_img = Image.open(f\"{path}/{file}\")\n",
    "        file_img = file_img.resize((256,256))\n",
    "        img_to_numpy.append(np.array(file_img))\n",
    "    return np.array(img_to_numpy)\n"
   ]
  },
  {
   "cell_type": "code",
   "execution_count": 8,
   "id": "1e6e1622",
   "metadata": {
    "execution": {
     "iopub.execute_input": "2023-05-07T10:41:07.587360Z",
     "iopub.status.busy": "2023-05-07T10:41:07.587087Z",
     "iopub.status.idle": "2023-05-07T10:41:11.849018Z",
     "shell.execute_reply": "2023-05-07T10:41:11.845937Z"
    },
    "papermill": {
     "duration": 4.278145,
     "end_time": "2023-05-07T10:41:11.860003",
     "exception": false,
     "start_time": "2023-05-07T10:41:07.581858",
     "status": "completed"
    },
    "tags": []
   },
   "outputs": [
    {
     "name": "stderr",
     "output_type": "stream",
     "text": [
      "100%|██████████| 512/512 [00:01<00:00, 272.92it/s]\n",
      "100%|██████████| 512/512 [00:02<00:00, 223.79it/s]\n"
     ]
    }
   ],
   "source": [
    "numpy_cat = img_resize(cat_random_sample, \"/kaggle/working/train\")\n",
    "# cat_label = np.array([0]*len(numpy_cat))\n",
    "numpy_dog = img_resize(dog_random_sample, \"/kaggle/working/train\")\n",
    "# dog_label = np.array([1]*len(numpy_cat))"
   ]
  },
  {
   "attachments": {},
   "cell_type": "markdown",
   "id": "2f81aff2",
   "metadata": {},
   "source": [
    "* 일반적인 image shape은 [height, width, channel] 이지만 torch에서 사용하는 image shape은 [hannel, height, width]\n",
    "* torchvision 패키지의 transforms.ToTensor를 사용하여 torch에 맞는 image shape으로 바꿔주는 것"
   ]
  },
  {
   "cell_type": "code",
   "execution_count": 9,
   "id": "b00d9d95",
   "metadata": {
    "execution": {
     "iopub.execute_input": "2023-05-07T10:41:14.265003Z",
     "iopub.status.busy": "2023-05-07T10:41:14.264532Z",
     "iopub.status.idle": "2023-05-07T10:41:15.549949Z",
     "shell.execute_reply": "2023-05-07T10:41:15.548817Z"
    },
    "papermill": {
     "duration": 1.308863,
     "end_time": "2023-05-07T10:41:15.552547",
     "exception": false,
     "start_time": "2023-05-07T10:41:14.243684",
     "status": "completed"
    },
    "tags": []
   },
   "outputs": [],
   "source": [
    "torch_cat = torch.stack([transforms.ToTensor()(cat_img) for cat_img in numpy_cat])\n",
    "# torch_cat_label = torch.IntTensor(cat_label)\n",
    "torch_dog = torch.stack([transforms.ToTensor()(dog_img) for dog_img in numpy_dog])\n",
    "# torch_dog_label = torch.IntTensor(dog_label)"
   ]
  },
  {
   "attachments": {},
   "cell_type": "markdown",
   "id": "363d0a9c",
   "metadata": {},
   "source": [
    "* 간단한 구조의 Convolution Layer로 Encoder, Decoder 구성"
   ]
  },
  {
   "cell_type": "code",
   "execution_count": null,
   "id": "57e58f45",
   "metadata": {},
   "outputs": [],
   "source": [
    "class AutoEncoder_conv(nn.Module):\n",
    "    def __init__(self):\n",
    "        super().__init__()\n",
    "        #ENC\n",
    "        self.enc_conv1 = nn.Conv2d(3, 16, kernel_size=3, stride=1, padding=1)\n",
    "        self.enc_conv2 = nn.Conv2d(16, 32, kernel_size=3, stride=1, padding=1)\n",
    "        self.relu = nn.ReLU()\n",
    "        self.maxpool2d = nn.MaxPool2d(2,2)\n",
    "        \n",
    "        #DEC\n",
    "        self.dec_conv1 = nn.ConvTranspose2d(32, 16, kernel_size=2, stride=2, padding=0)\n",
    "        self.dec_conv2 = nn.ConvTranspose2d(16, 3, kernel_size=2, stride=2, padding=0)\n",
    "        \n",
    "        #\n",
    "        self.sigmoid = nn.Sigmoid()\n",
    "    def encoder(self, x):\n",
    "        x = self.enc_conv1(x)\n",
    "        x = self.relu(x)\n",
    "        x = self.maxpool2d(x)\n",
    "        x = self.enc_conv2(x)\n",
    "        x = self.relu(x)\n",
    "        x = self.maxpool2d(x)\n",
    "        return x\n",
    "    \n",
    "    def decoder(self, x):\n",
    "        x = self.dec_conv1(x)\n",
    "        x = self.relu(x)\n",
    "        x = self.dec_conv2(x)\n",
    "        return x\n",
    "        \n",
    "    def forward(self, x):\n",
    "        x = self.encoder(x)\n",
    "        x = self.decoder(x)\n",
    "        x = self.sigmoid(x)\n",
    "        return x"
   ]
  }
 ],
 "metadata": {
  "kernelspec": {
   "display_name": "Python 3",
   "language": "python",
   "name": "python3"
  },
  "language_info": {
   "codemirror_mode": {
    "name": "ipython",
    "version": 3
   },
   "file_extension": ".py",
   "mimetype": "text/x-python",
   "name": "python",
   "nbconvert_exporter": "python",
   "pygments_lexer": "ipython3",
   "version": "3.10.10"
  },
  "papermill": {
   "default_parameters": {},
   "duration": 940.015904,
   "end_time": "2023-05-07T10:56:17.836307",
   "environment_variables": {},
   "exception": null,
   "input_path": "__notebook__.ipynb",
   "output_path": "__notebook__.ipynb",
   "parameters": {},
   "start_time": "2023-05-07T10:40:37.820403",
   "version": "2.4.0"
  }
 },
 "nbformat": 4,
 "nbformat_minor": 5
}
